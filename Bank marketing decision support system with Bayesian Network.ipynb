{
 "cells": [
  {
   "cell_type": "markdown",
   "id": "e96179d2",
   "metadata": {},
   "source": [
    "<center> Appendix </center>"
   ]
  },
  {
   "cell_type": "markdown",
   "id": "b672e159",
   "metadata": {
    "id": "b672e159"
   },
   "source": [
    "<h1><center>Bayesian Network model</center></h1>"
   ]
  },
  {
   "cell_type": "markdown",
   "id": "b87872a3",
   "metadata": {
    "id": "b87872a3"
   },
   "source": [
    "## Data"
   ]
  },
  {
   "cell_type": "markdown",
   "id": "9063a8f8",
   "metadata": {
    "id": "9063a8f8"
   },
   "source": [
    "### Importing Necessary libraries"
   ]
  },
  {
   "cell_type": "code",
   "execution_count": 1,
   "id": "5ec6b62e",
   "metadata": {
    "executionInfo": {
     "elapsed": 1839,
     "status": "ok",
     "timestamp": 1671007760414,
     "user": {
      "displayName": "May Zhang",
      "userId": "17374700244562573141"
     },
     "user_tz": -480
    },
    "id": "5ec6b62e"
   },
   "outputs": [],
   "source": [
    "# import tools and libraries\n",
    "\n",
    "import pandas as pd\n",
    "import requests\n",
    "from zipfile import ZipFile\n",
    "from io import BytesIO\n",
    "\n",
    "#tools to analyze categorical variable association\n",
    "import os as os\n",
    "from itertools import product\n",
    "import numpy as np\n",
    "import scipy.stats as ss\n",
    "\n",
    "# tools to visualize data\n",
    "import matplotlib.pyplot as plt\n",
    "%matplotlib inline\n",
    "import seaborn as sns\n",
    "\n",
    "# tools to build bayesian network\n",
    "from pgmpy.models import BayesianNetwork\n",
    "from pgmpy.factors.discrete import TabularCPD \n",
    "import networkx as nx\n",
    "\n",
    "# tool to make inference from bayesian network \n",
    "from pgmpy.inference import VariableElimination"
   ]
  },
  {
   "cell_type": "markdown",
   "id": "40363c52",
   "metadata": {
    "id": "40363c52"
   },
   "source": [
    "### Exploratory Data Analysis"
   ]
  },
  {
   "cell_type": "code",
   "execution_count": 2,
   "id": "eecf387d",
   "metadata": {
    "executionInfo": {
     "elapsed": 855,
     "status": "ok",
     "timestamp": 1671004280108,
     "user": {
      "displayName": "May Zhang",
      "userId": "17374700244562573141"
     },
     "user_tz": -480
    },
    "id": "eecf387d"
   },
   "outputs": [],
   "source": [
    "# read data from online data base\n",
    "r = requests.get(\"https://archive.ics.uci.edu/ml/machine-learning-databases/00222/bank-additional.zip\")\n",
    "files = ZipFile(BytesIO(r.content))\n",
    "bank_full=pd.read_csv(files.open(\"bank-additional/bank-additional-full.csv\"), sep=';')\n",
    "\n",
    "# code refence: \n",
    "# https://stackoverflow.com/questions/61894641/using-pandas-how-to-read-a-csv-file-inside-a-zip-file-which-you-fetch-using-an\n"
   ]
  },
  {
   "cell_type": "code",
   "execution_count": 3,
   "id": "b54a907c",
   "metadata": {
    "colab": {
     "base_uri": "https://localhost:8080/",
     "height": 300
    },
    "executionInfo": {
     "elapsed": 7,
     "status": "ok",
     "timestamp": 1671004280110,
     "user": {
      "displayName": "May Zhang",
      "userId": "17374700244562573141"
     },
     "user_tz": -480
    },
    "id": "b54a907c",
    "outputId": "ff4f5e42-38a0-48d8-e514-4e5a32f27ca2"
   },
   "outputs": [
    {
     "data": {
      "text/html": [
       "<div>\n",
       "<style scoped>\n",
       "    .dataframe tbody tr th:only-of-type {\n",
       "        vertical-align: middle;\n",
       "    }\n",
       "\n",
       "    .dataframe tbody tr th {\n",
       "        vertical-align: top;\n",
       "    }\n",
       "\n",
       "    .dataframe thead th {\n",
       "        text-align: right;\n",
       "    }\n",
       "</style>\n",
       "<table border=\"1\" class=\"dataframe\">\n",
       "  <thead>\n",
       "    <tr style=\"text-align: right;\">\n",
       "      <th></th>\n",
       "      <th>age</th>\n",
       "      <th>job</th>\n",
       "      <th>marital</th>\n",
       "      <th>education</th>\n",
       "      <th>default</th>\n",
       "      <th>housing</th>\n",
       "      <th>loan</th>\n",
       "      <th>contact</th>\n",
       "      <th>month</th>\n",
       "      <th>day_of_week</th>\n",
       "      <th>...</th>\n",
       "      <th>campaign</th>\n",
       "      <th>pdays</th>\n",
       "      <th>previous</th>\n",
       "      <th>poutcome</th>\n",
       "      <th>emp.var.rate</th>\n",
       "      <th>cons.price.idx</th>\n",
       "      <th>cons.conf.idx</th>\n",
       "      <th>euribor3m</th>\n",
       "      <th>nr.employed</th>\n",
       "      <th>y</th>\n",
       "    </tr>\n",
       "  </thead>\n",
       "  <tbody>\n",
       "    <tr>\n",
       "      <th>0</th>\n",
       "      <td>56</td>\n",
       "      <td>housemaid</td>\n",
       "      <td>married</td>\n",
       "      <td>basic.4y</td>\n",
       "      <td>no</td>\n",
       "      <td>no</td>\n",
       "      <td>no</td>\n",
       "      <td>telephone</td>\n",
       "      <td>may</td>\n",
       "      <td>mon</td>\n",
       "      <td>...</td>\n",
       "      <td>1</td>\n",
       "      <td>999</td>\n",
       "      <td>0</td>\n",
       "      <td>nonexistent</td>\n",
       "      <td>1.1</td>\n",
       "      <td>93.994</td>\n",
       "      <td>-36.4</td>\n",
       "      <td>4.857</td>\n",
       "      <td>5191.0</td>\n",
       "      <td>no</td>\n",
       "    </tr>\n",
       "    <tr>\n",
       "      <th>1</th>\n",
       "      <td>57</td>\n",
       "      <td>services</td>\n",
       "      <td>married</td>\n",
       "      <td>high.school</td>\n",
       "      <td>unknown</td>\n",
       "      <td>no</td>\n",
       "      <td>no</td>\n",
       "      <td>telephone</td>\n",
       "      <td>may</td>\n",
       "      <td>mon</td>\n",
       "      <td>...</td>\n",
       "      <td>1</td>\n",
       "      <td>999</td>\n",
       "      <td>0</td>\n",
       "      <td>nonexistent</td>\n",
       "      <td>1.1</td>\n",
       "      <td>93.994</td>\n",
       "      <td>-36.4</td>\n",
       "      <td>4.857</td>\n",
       "      <td>5191.0</td>\n",
       "      <td>no</td>\n",
       "    </tr>\n",
       "    <tr>\n",
       "      <th>2</th>\n",
       "      <td>37</td>\n",
       "      <td>services</td>\n",
       "      <td>married</td>\n",
       "      <td>high.school</td>\n",
       "      <td>no</td>\n",
       "      <td>yes</td>\n",
       "      <td>no</td>\n",
       "      <td>telephone</td>\n",
       "      <td>may</td>\n",
       "      <td>mon</td>\n",
       "      <td>...</td>\n",
       "      <td>1</td>\n",
       "      <td>999</td>\n",
       "      <td>0</td>\n",
       "      <td>nonexistent</td>\n",
       "      <td>1.1</td>\n",
       "      <td>93.994</td>\n",
       "      <td>-36.4</td>\n",
       "      <td>4.857</td>\n",
       "      <td>5191.0</td>\n",
       "      <td>no</td>\n",
       "    </tr>\n",
       "    <tr>\n",
       "      <th>3</th>\n",
       "      <td>40</td>\n",
       "      <td>admin.</td>\n",
       "      <td>married</td>\n",
       "      <td>basic.6y</td>\n",
       "      <td>no</td>\n",
       "      <td>no</td>\n",
       "      <td>no</td>\n",
       "      <td>telephone</td>\n",
       "      <td>may</td>\n",
       "      <td>mon</td>\n",
       "      <td>...</td>\n",
       "      <td>1</td>\n",
       "      <td>999</td>\n",
       "      <td>0</td>\n",
       "      <td>nonexistent</td>\n",
       "      <td>1.1</td>\n",
       "      <td>93.994</td>\n",
       "      <td>-36.4</td>\n",
       "      <td>4.857</td>\n",
       "      <td>5191.0</td>\n",
       "      <td>no</td>\n",
       "    </tr>\n",
       "    <tr>\n",
       "      <th>4</th>\n",
       "      <td>56</td>\n",
       "      <td>services</td>\n",
       "      <td>married</td>\n",
       "      <td>high.school</td>\n",
       "      <td>no</td>\n",
       "      <td>no</td>\n",
       "      <td>yes</td>\n",
       "      <td>telephone</td>\n",
       "      <td>may</td>\n",
       "      <td>mon</td>\n",
       "      <td>...</td>\n",
       "      <td>1</td>\n",
       "      <td>999</td>\n",
       "      <td>0</td>\n",
       "      <td>nonexistent</td>\n",
       "      <td>1.1</td>\n",
       "      <td>93.994</td>\n",
       "      <td>-36.4</td>\n",
       "      <td>4.857</td>\n",
       "      <td>5191.0</td>\n",
       "      <td>no</td>\n",
       "    </tr>\n",
       "  </tbody>\n",
       "</table>\n",
       "<p>5 rows × 21 columns</p>\n",
       "</div>"
      ],
      "text/plain": [
       "   age        job  marital    education  default housing loan    contact  \\\n",
       "0   56  housemaid  married     basic.4y       no      no   no  telephone   \n",
       "1   57   services  married  high.school  unknown      no   no  telephone   \n",
       "2   37   services  married  high.school       no     yes   no  telephone   \n",
       "3   40     admin.  married     basic.6y       no      no   no  telephone   \n",
       "4   56   services  married  high.school       no      no  yes  telephone   \n",
       "\n",
       "  month day_of_week  ...  campaign  pdays  previous     poutcome emp.var.rate  \\\n",
       "0   may         mon  ...         1    999         0  nonexistent          1.1   \n",
       "1   may         mon  ...         1    999         0  nonexistent          1.1   \n",
       "2   may         mon  ...         1    999         0  nonexistent          1.1   \n",
       "3   may         mon  ...         1    999         0  nonexistent          1.1   \n",
       "4   may         mon  ...         1    999         0  nonexistent          1.1   \n",
       "\n",
       "   cons.price.idx  cons.conf.idx  euribor3m  nr.employed   y  \n",
       "0          93.994          -36.4      4.857       5191.0  no  \n",
       "1          93.994          -36.4      4.857       5191.0  no  \n",
       "2          93.994          -36.4      4.857       5191.0  no  \n",
       "3          93.994          -36.4      4.857       5191.0  no  \n",
       "4          93.994          -36.4      4.857       5191.0  no  \n",
       "\n",
       "[5 rows x 21 columns]"
      ]
     },
     "execution_count": 3,
     "metadata": {},
     "output_type": "execute_result"
    }
   ],
   "source": [
    "# quick look at the data\n",
    "bank_full.head()"
   ]
  },
  {
   "cell_type": "code",
   "execution_count": 4,
   "id": "51f7ba13",
   "metadata": {
    "colab": {
     "base_uri": "https://localhost:8080/"
    },
    "executionInfo": {
     "elapsed": 7,
     "status": "ok",
     "timestamp": 1671004280111,
     "user": {
      "displayName": "May Zhang",
      "userId": "17374700244562573141"
     },
     "user_tz": -480
    },
    "id": "51f7ba13",
    "outputId": "92819414-1af4-4644-ae28-8d2c519e66a8"
   },
   "outputs": [
    {
     "name": "stdout",
     "output_type": "stream",
     "text": [
      "<class 'pandas.core.frame.DataFrame'>\n",
      "RangeIndex: 41188 entries, 0 to 41187\n",
      "Data columns (total 21 columns):\n",
      " #   Column          Non-Null Count  Dtype  \n",
      "---  ------          --------------  -----  \n",
      " 0   age             41188 non-null  int64  \n",
      " 1   job             41188 non-null  object \n",
      " 2   marital         41188 non-null  object \n",
      " 3   education       41188 non-null  object \n",
      " 4   default         41188 non-null  object \n",
      " 5   housing         41188 non-null  object \n",
      " 6   loan            41188 non-null  object \n",
      " 7   contact         41188 non-null  object \n",
      " 8   month           41188 non-null  object \n",
      " 9   day_of_week     41188 non-null  object \n",
      " 10  duration        41188 non-null  int64  \n",
      " 11  campaign        41188 non-null  int64  \n",
      " 12  pdays           41188 non-null  int64  \n",
      " 13  previous        41188 non-null  int64  \n",
      " 14  poutcome        41188 non-null  object \n",
      " 15  emp.var.rate    41188 non-null  float64\n",
      " 16  cons.price.idx  41188 non-null  float64\n",
      " 17  cons.conf.idx   41188 non-null  float64\n",
      " 18  euribor3m       41188 non-null  float64\n",
      " 19  nr.employed     41188 non-null  float64\n",
      " 20  y               41188 non-null  object \n",
      "dtypes: float64(5), int64(5), object(11)\n",
      "memory usage: 6.6+ MB\n"
     ]
    }
   ],
   "source": [
    "# data features & information\n",
    "bank_full.info()"
   ]
  },
  {
   "cell_type": "code",
   "execution_count": 5,
   "id": "87fc89ad",
   "metadata": {
    "colab": {
     "base_uri": "https://localhost:8080/",
     "height": 364
    },
    "executionInfo": {
     "elapsed": 5,
     "status": "ok",
     "timestamp": 1671004280111,
     "user": {
      "displayName": "May Zhang",
      "userId": "17374700244562573141"
     },
     "user_tz": -480
    },
    "id": "87fc89ad",
    "outputId": "9e9f0a32-5ef6-482c-cbae-e0b40e1136fa",
    "scrolled": true
   },
   "outputs": [
    {
     "data": {
      "text/html": [
       "<div>\n",
       "<style scoped>\n",
       "    .dataframe tbody tr th:only-of-type {\n",
       "        vertical-align: middle;\n",
       "    }\n",
       "\n",
       "    .dataframe tbody tr th {\n",
       "        vertical-align: top;\n",
       "    }\n",
       "\n",
       "    .dataframe thead th {\n",
       "        text-align: right;\n",
       "    }\n",
       "</style>\n",
       "<table border=\"1\" class=\"dataframe\">\n",
       "  <thead>\n",
       "    <tr style=\"text-align: right;\">\n",
       "      <th></th>\n",
       "      <th>age</th>\n",
       "      <th>duration</th>\n",
       "      <th>campaign</th>\n",
       "      <th>pdays</th>\n",
       "      <th>previous</th>\n",
       "      <th>emp.var.rate</th>\n",
       "      <th>cons.price.idx</th>\n",
       "      <th>cons.conf.idx</th>\n",
       "      <th>euribor3m</th>\n",
       "      <th>nr.employed</th>\n",
       "    </tr>\n",
       "  </thead>\n",
       "  <tbody>\n",
       "    <tr>\n",
       "      <th>count</th>\n",
       "      <td>41188.00000</td>\n",
       "      <td>41188.000000</td>\n",
       "      <td>41188.000000</td>\n",
       "      <td>41188.000000</td>\n",
       "      <td>41188.000000</td>\n",
       "      <td>41188.000000</td>\n",
       "      <td>41188.000000</td>\n",
       "      <td>41188.000000</td>\n",
       "      <td>41188.000000</td>\n",
       "      <td>41188.000000</td>\n",
       "    </tr>\n",
       "    <tr>\n",
       "      <th>mean</th>\n",
       "      <td>40.02406</td>\n",
       "      <td>258.285010</td>\n",
       "      <td>2.567593</td>\n",
       "      <td>962.475454</td>\n",
       "      <td>0.172963</td>\n",
       "      <td>0.081886</td>\n",
       "      <td>93.575664</td>\n",
       "      <td>-40.502600</td>\n",
       "      <td>3.621291</td>\n",
       "      <td>5167.035911</td>\n",
       "    </tr>\n",
       "    <tr>\n",
       "      <th>std</th>\n",
       "      <td>10.42125</td>\n",
       "      <td>259.279249</td>\n",
       "      <td>2.770014</td>\n",
       "      <td>186.910907</td>\n",
       "      <td>0.494901</td>\n",
       "      <td>1.570960</td>\n",
       "      <td>0.578840</td>\n",
       "      <td>4.628198</td>\n",
       "      <td>1.734447</td>\n",
       "      <td>72.251528</td>\n",
       "    </tr>\n",
       "    <tr>\n",
       "      <th>min</th>\n",
       "      <td>17.00000</td>\n",
       "      <td>0.000000</td>\n",
       "      <td>1.000000</td>\n",
       "      <td>0.000000</td>\n",
       "      <td>0.000000</td>\n",
       "      <td>-3.400000</td>\n",
       "      <td>92.201000</td>\n",
       "      <td>-50.800000</td>\n",
       "      <td>0.634000</td>\n",
       "      <td>4963.600000</td>\n",
       "    </tr>\n",
       "    <tr>\n",
       "      <th>25%</th>\n",
       "      <td>32.00000</td>\n",
       "      <td>102.000000</td>\n",
       "      <td>1.000000</td>\n",
       "      <td>999.000000</td>\n",
       "      <td>0.000000</td>\n",
       "      <td>-1.800000</td>\n",
       "      <td>93.075000</td>\n",
       "      <td>-42.700000</td>\n",
       "      <td>1.344000</td>\n",
       "      <td>5099.100000</td>\n",
       "    </tr>\n",
       "    <tr>\n",
       "      <th>50%</th>\n",
       "      <td>38.00000</td>\n",
       "      <td>180.000000</td>\n",
       "      <td>2.000000</td>\n",
       "      <td>999.000000</td>\n",
       "      <td>0.000000</td>\n",
       "      <td>1.100000</td>\n",
       "      <td>93.749000</td>\n",
       "      <td>-41.800000</td>\n",
       "      <td>4.857000</td>\n",
       "      <td>5191.000000</td>\n",
       "    </tr>\n",
       "    <tr>\n",
       "      <th>75%</th>\n",
       "      <td>47.00000</td>\n",
       "      <td>319.000000</td>\n",
       "      <td>3.000000</td>\n",
       "      <td>999.000000</td>\n",
       "      <td>0.000000</td>\n",
       "      <td>1.400000</td>\n",
       "      <td>93.994000</td>\n",
       "      <td>-36.400000</td>\n",
       "      <td>4.961000</td>\n",
       "      <td>5228.100000</td>\n",
       "    </tr>\n",
       "    <tr>\n",
       "      <th>max</th>\n",
       "      <td>98.00000</td>\n",
       "      <td>4918.000000</td>\n",
       "      <td>56.000000</td>\n",
       "      <td>999.000000</td>\n",
       "      <td>7.000000</td>\n",
       "      <td>1.400000</td>\n",
       "      <td>94.767000</td>\n",
       "      <td>-26.900000</td>\n",
       "      <td>5.045000</td>\n",
       "      <td>5228.100000</td>\n",
       "    </tr>\n",
       "  </tbody>\n",
       "</table>\n",
       "</div>"
      ],
      "text/plain": [
       "               age      duration      campaign         pdays      previous  \\\n",
       "count  41188.00000  41188.000000  41188.000000  41188.000000  41188.000000   \n",
       "mean      40.02406    258.285010      2.567593    962.475454      0.172963   \n",
       "std       10.42125    259.279249      2.770014    186.910907      0.494901   \n",
       "min       17.00000      0.000000      1.000000      0.000000      0.000000   \n",
       "25%       32.00000    102.000000      1.000000    999.000000      0.000000   \n",
       "50%       38.00000    180.000000      2.000000    999.000000      0.000000   \n",
       "75%       47.00000    319.000000      3.000000    999.000000      0.000000   \n",
       "max       98.00000   4918.000000     56.000000    999.000000      7.000000   \n",
       "\n",
       "       emp.var.rate  cons.price.idx  cons.conf.idx     euribor3m   nr.employed  \n",
       "count  41188.000000    41188.000000   41188.000000  41188.000000  41188.000000  \n",
       "mean       0.081886       93.575664     -40.502600      3.621291   5167.035911  \n",
       "std        1.570960        0.578840       4.628198      1.734447     72.251528  \n",
       "min       -3.400000       92.201000     -50.800000      0.634000   4963.600000  \n",
       "25%       -1.800000       93.075000     -42.700000      1.344000   5099.100000  \n",
       "50%        1.100000       93.749000     -41.800000      4.857000   5191.000000  \n",
       "75%        1.400000       93.994000     -36.400000      4.961000   5228.100000  \n",
       "max        1.400000       94.767000     -26.900000      5.045000   5228.100000  "
      ]
     },
     "execution_count": 5,
     "metadata": {},
     "output_type": "execute_result"
    }
   ],
   "source": [
    "# statistics of numerical features\n",
    "bank_full.describe()"
   ]
  },
  {
   "cell_type": "code",
   "execution_count": 6,
   "id": "1939d2d1",
   "metadata": {
    "colab": {
     "base_uri": "https://localhost:8080/",
     "height": 219
    },
    "executionInfo": {
     "elapsed": 372,
     "status": "ok",
     "timestamp": 1671004280479,
     "user": {
      "displayName": "May Zhang",
      "userId": "17374700244562573141"
     },
     "user_tz": -480
    },
    "id": "1939d2d1",
    "outputId": "8150cff9-844d-47bf-c7d5-2302034a15ea"
   },
   "outputs": [
    {
     "data": {
      "text/html": [
       "<div>\n",
       "<style scoped>\n",
       "    .dataframe tbody tr th:only-of-type {\n",
       "        vertical-align: middle;\n",
       "    }\n",
       "\n",
       "    .dataframe tbody tr th {\n",
       "        vertical-align: top;\n",
       "    }\n",
       "\n",
       "    .dataframe thead th {\n",
       "        text-align: right;\n",
       "    }\n",
       "</style>\n",
       "<table border=\"1\" class=\"dataframe\">\n",
       "  <thead>\n",
       "    <tr style=\"text-align: right;\">\n",
       "      <th></th>\n",
       "      <th>job</th>\n",
       "      <th>marital</th>\n",
       "      <th>education</th>\n",
       "      <th>default</th>\n",
       "      <th>housing</th>\n",
       "      <th>loan</th>\n",
       "      <th>contact</th>\n",
       "      <th>month</th>\n",
       "      <th>day_of_week</th>\n",
       "      <th>poutcome</th>\n",
       "      <th>y</th>\n",
       "    </tr>\n",
       "  </thead>\n",
       "  <tbody>\n",
       "    <tr>\n",
       "      <th>count</th>\n",
       "      <td>41188</td>\n",
       "      <td>41188</td>\n",
       "      <td>41188</td>\n",
       "      <td>41188</td>\n",
       "      <td>41188</td>\n",
       "      <td>41188</td>\n",
       "      <td>41188</td>\n",
       "      <td>41188</td>\n",
       "      <td>41188</td>\n",
       "      <td>41188</td>\n",
       "      <td>41188</td>\n",
       "    </tr>\n",
       "    <tr>\n",
       "      <th>unique</th>\n",
       "      <td>12</td>\n",
       "      <td>4</td>\n",
       "      <td>8</td>\n",
       "      <td>3</td>\n",
       "      <td>3</td>\n",
       "      <td>3</td>\n",
       "      <td>2</td>\n",
       "      <td>10</td>\n",
       "      <td>5</td>\n",
       "      <td>3</td>\n",
       "      <td>2</td>\n",
       "    </tr>\n",
       "    <tr>\n",
       "      <th>top</th>\n",
       "      <td>admin.</td>\n",
       "      <td>married</td>\n",
       "      <td>university.degree</td>\n",
       "      <td>no</td>\n",
       "      <td>yes</td>\n",
       "      <td>no</td>\n",
       "      <td>cellular</td>\n",
       "      <td>may</td>\n",
       "      <td>thu</td>\n",
       "      <td>nonexistent</td>\n",
       "      <td>no</td>\n",
       "    </tr>\n",
       "    <tr>\n",
       "      <th>freq</th>\n",
       "      <td>10422</td>\n",
       "      <td>24928</td>\n",
       "      <td>12168</td>\n",
       "      <td>32588</td>\n",
       "      <td>21576</td>\n",
       "      <td>33950</td>\n",
       "      <td>26144</td>\n",
       "      <td>13769</td>\n",
       "      <td>8623</td>\n",
       "      <td>35563</td>\n",
       "      <td>36548</td>\n",
       "    </tr>\n",
       "  </tbody>\n",
       "</table>\n",
       "</div>"
      ],
      "text/plain": [
       "           job  marital          education default housing   loan   contact  \\\n",
       "count    41188    41188              41188   41188   41188  41188     41188   \n",
       "unique      12        4                  8       3       3      3         2   \n",
       "top     admin.  married  university.degree      no     yes     no  cellular   \n",
       "freq     10422    24928              12168   32588   21576  33950     26144   \n",
       "\n",
       "        month day_of_week     poutcome      y  \n",
       "count   41188       41188        41188  41188  \n",
       "unique     10           5            3      2  \n",
       "top       may         thu  nonexistent     no  \n",
       "freq    13769        8623        35563  36548  "
      ]
     },
     "execution_count": 6,
     "metadata": {},
     "output_type": "execute_result"
    }
   ],
   "source": [
    "# statistics of categorical features\n",
    "bank_full.describe(include='object')"
   ]
  },
  {
   "cell_type": "code",
   "execution_count": 7,
   "id": "xBdvrVtFs_TH",
   "metadata": {
    "colab": {
     "base_uri": "https://localhost:8080/"
    },
    "executionInfo": {
     "elapsed": 2,
     "status": "ok",
     "timestamp": 1671005747713,
     "user": {
      "displayName": "May Zhang",
      "userId": "17374700244562573141"
     },
     "user_tz": -480
    },
    "id": "xBdvrVtFs_TH",
    "outputId": "4ff0e762-eb0a-4f08-8577-0eedf0d63da3"
   },
   "outputs": [
    {
     "data": {
      "text/plain": [
       "array(['no', 'yes'], dtype=object)"
      ]
     },
     "execution_count": 7,
     "metadata": {},
     "output_type": "execute_result"
    }
   ],
   "source": [
    "# categories of target variable\n",
    "bank_full.y.unique()"
   ]
  },
  {
   "cell_type": "code",
   "execution_count": 8,
   "id": "1b4c663e",
   "metadata": {
    "colab": {
     "base_uri": "https://localhost:8080/"
    },
    "executionInfo": {
     "elapsed": 5,
     "status": "ok",
     "timestamp": 1671004280479,
     "user": {
      "displayName": "May Zhang",
      "userId": "17374700244562573141"
     },
     "user_tz": -480
    },
    "id": "1b4c663e",
    "outputId": "39b6696f-bd44-4598-e24c-8bac89faedb5"
   },
   "outputs": [
    {
     "data": {
      "text/plain": [
       "age               0\n",
       "job               0\n",
       "marital           0\n",
       "education         0\n",
       "default           0\n",
       "housing           0\n",
       "loan              0\n",
       "contact           0\n",
       "month             0\n",
       "day_of_week       0\n",
       "duration          0\n",
       "campaign          0\n",
       "pdays             0\n",
       "previous          0\n",
       "poutcome          0\n",
       "emp.var.rate      0\n",
       "cons.price.idx    0\n",
       "cons.conf.idx     0\n",
       "euribor3m         0\n",
       "nr.employed       0\n",
       "y                 0\n",
       "dtype: int64"
      ]
     },
     "execution_count": 8,
     "metadata": {},
     "output_type": "execute_result"
    }
   ],
   "source": [
    "# check null values in data\n",
    "bank_full.isna().sum()"
   ]
  },
  {
   "cell_type": "markdown",
   "id": "90285bee",
   "metadata": {
    "id": "90285bee"
   },
   "source": [
    "### bank client data"
   ]
  },
  {
   "cell_type": "markdown",
   "id": "f4cc8e0a",
   "metadata": {},
   "source": [
    "#### Statistics of bank client characteristic features"
   ]
  },
  {
   "cell_type": "code",
   "execution_count": 9,
   "id": "74c2e48e",
   "metadata": {
    "scrolled": true
   },
   "outputs": [
    {
     "name": "stdout",
     "output_type": "stream",
     "text": [
      "Index(['age', 'job', 'marital', 'education', 'default', 'housing', 'loan'], dtype='object')\n"
     ]
    }
   ],
   "source": [
    "# what are the bank client feature?\n",
    "client_feat = bank_full.columns[:7]\n",
    "print(client_feat)"
   ]
  },
  {
   "cell_type": "code",
   "execution_count": 10,
   "id": "772098d8",
   "metadata": {},
   "outputs": [
    {
     "name": "stdout",
     "output_type": "stream",
     "text": [
      "<class 'pandas.core.frame.DataFrame'>\n",
      "RangeIndex: 41188 entries, 0 to 41187\n",
      "Data columns (total 7 columns):\n",
      " #   Column     Non-Null Count  Dtype \n",
      "---  ------     --------------  ----- \n",
      " 0   age        41188 non-null  int64 \n",
      " 1   job        41188 non-null  object\n",
      " 2   marital    41188 non-null  object\n",
      " 3   education  41188 non-null  object\n",
      " 4   default    41188 non-null  object\n",
      " 5   housing    41188 non-null  object\n",
      " 6   loan       41188 non-null  object\n",
      "dtypes: int64(1), object(6)\n",
      "memory usage: 2.2+ MB\n"
     ]
    }
   ],
   "source": [
    "# types of features\n",
    "bank_full[client_feat].info()"
   ]
  },
  {
   "cell_type": "code",
   "execution_count": 11,
   "id": "4d62d120",
   "metadata": {},
   "outputs": [
    {
     "data": {
      "text/html": [
       "<div>\n",
       "<style scoped>\n",
       "    .dataframe tbody tr th:only-of-type {\n",
       "        vertical-align: middle;\n",
       "    }\n",
       "\n",
       "    .dataframe tbody tr th {\n",
       "        vertical-align: top;\n",
       "    }\n",
       "\n",
       "    .dataframe thead th {\n",
       "        text-align: right;\n",
       "    }\n",
       "</style>\n",
       "<table border=\"1\" class=\"dataframe\">\n",
       "  <thead>\n",
       "    <tr style=\"text-align: right;\">\n",
       "      <th></th>\n",
       "      <th>age</th>\n",
       "    </tr>\n",
       "  </thead>\n",
       "  <tbody>\n",
       "    <tr>\n",
       "      <th>count</th>\n",
       "      <td>41188.00000</td>\n",
       "    </tr>\n",
       "    <tr>\n",
       "      <th>mean</th>\n",
       "      <td>40.02406</td>\n",
       "    </tr>\n",
       "    <tr>\n",
       "      <th>std</th>\n",
       "      <td>10.42125</td>\n",
       "    </tr>\n",
       "    <tr>\n",
       "      <th>min</th>\n",
       "      <td>17.00000</td>\n",
       "    </tr>\n",
       "    <tr>\n",
       "      <th>25%</th>\n",
       "      <td>32.00000</td>\n",
       "    </tr>\n",
       "    <tr>\n",
       "      <th>50%</th>\n",
       "      <td>38.00000</td>\n",
       "    </tr>\n",
       "    <tr>\n",
       "      <th>75%</th>\n",
       "      <td>47.00000</td>\n",
       "    </tr>\n",
       "    <tr>\n",
       "      <th>max</th>\n",
       "      <td>98.00000</td>\n",
       "    </tr>\n",
       "  </tbody>\n",
       "</table>\n",
       "</div>"
      ],
      "text/plain": [
       "               age\n",
       "count  41188.00000\n",
       "mean      40.02406\n",
       "std       10.42125\n",
       "min       17.00000\n",
       "25%       32.00000\n",
       "50%       38.00000\n",
       "75%       47.00000\n",
       "max       98.00000"
      ]
     },
     "execution_count": 11,
     "metadata": {},
     "output_type": "execute_result"
    }
   ],
   "source": [
    "# stats of \"age\"\n",
    "bank_full[client_feat].describe()"
   ]
  },
  {
   "cell_type": "code",
   "execution_count": 12,
   "id": "c25a0eba",
   "metadata": {
    "scrolled": true
   },
   "outputs": [
    {
     "name": "stdout",
     "output_type": "stream",
     "text": [
      "admin.           10422\n",
      "blue-collar       9254\n",
      "technician        6743\n",
      "services          3969\n",
      "management        2924\n",
      "retired           1720\n",
      "entrepreneur      1456\n",
      "self-employed     1421\n",
      "housemaid         1060\n",
      "unemployed        1014\n",
      "student            875\n",
      "unknown            330\n",
      "Name: job, dtype: int64\n",
      "married     24928\n",
      "single      11568\n",
      "divorced     4612\n",
      "unknown        80\n",
      "Name: marital, dtype: int64\n",
      "university.degree      12168\n",
      "high.school             9515\n",
      "basic.9y                6045\n",
      "professional.course     5243\n",
      "basic.4y                4176\n",
      "basic.6y                2292\n",
      "unknown                 1731\n",
      "illiterate                18\n",
      "Name: education, dtype: int64\n",
      "no         32588\n",
      "unknown     8597\n",
      "yes            3\n",
      "Name: default, dtype: int64\n",
      "yes        21576\n",
      "no         18622\n",
      "unknown      990\n",
      "Name: housing, dtype: int64\n",
      "no         33950\n",
      "yes         6248\n",
      "unknown      990\n",
      "Name: loan, dtype: int64\n"
     ]
    }
   ],
   "source": [
    "# bank client characteristic categorical feature distribution \n",
    "for feat in client_feat[1:7]:\n",
    "    print(bank_full[feat].value_counts())"
   ]
  },
  {
   "cell_type": "markdown",
   "id": "21f0df83",
   "metadata": {},
   "source": [
    "#### Pre-process bank client features"
   ]
  },
  {
   "cell_type": "code",
   "execution_count": 13,
   "id": "d47a9312",
   "metadata": {
    "scrolled": true
   },
   "outputs": [],
   "source": [
    "# drop rare categories under different features\n",
    "rare = bank_full.loc[(bank_full[\"education\"] == \"illiterate\") \n",
    "                     | (bank_full[\"marital\"] == \"unknown\")\n",
    "                     |(bank_full['job']=='unknown')]\n",
    "bank_full = bank_full.drop(index=rare.index)"
   ]
  },
  {
   "cell_type": "code",
   "execution_count": 14,
   "id": "fc265b2e",
   "metadata": {
    "executionInfo": {
     "elapsed": 3,
     "status": "ok",
     "timestamp": 1671004306189,
     "user": {
      "displayName": "May Zhang",
      "userId": "17374700244562573141"
     },
     "user_tz": -480
    },
    "id": "fc265b2e"
   },
   "outputs": [],
   "source": [
    "# combine categories \"basic.4y\", 'basic.6y', 'basic.9y' as 'basic'\n",
    "bank_full['education'] = bank_full['education'].replace([\"basic.4y\", 'basic.6y', 'basic.9y'], \"basic\")"
   ]
  },
  {
   "cell_type": "code",
   "execution_count": 15,
   "id": "c_J2Wtbxfw3z",
   "metadata": {
    "colab": {
     "base_uri": "https://localhost:8080/",
     "height": 296
    },
    "executionInfo": {
     "elapsed": 1002,
     "status": "ok",
     "timestamp": 1671004307189,
     "user": {
      "displayName": "May Zhang",
      "userId": "17374700244562573141"
     },
     "user_tz": -480
    },
    "id": "c_J2Wtbxfw3z",
    "outputId": "275220fa-3b63-4418-e89d-8c16aa4265a9"
   },
   "outputs": [
    {
     "data": {
      "text/plain": [
       "<AxesSubplot:xlabel='age', ylabel='Count'>"
      ]
     },
     "execution_count": 15,
     "metadata": {},
     "output_type": "execute_result"
    },
    {
     "data": {
      "image/png": "[encoded data removed]",
      "text/plain": [
       "<Figure size 640x480 with 1 Axes>"
      ]
     },
     "metadata": {},
     "output_type": "display_data"
    }
   ],
   "source": [
    "# visualize the age feature distribution\n",
    "sns.histplot( bank_full['age'])"
   ]
  },
  {
   "cell_type": "code",
   "execution_count": 16,
   "id": "749eb5b4",
   "metadata": {
    "executionInfo": {
     "elapsed": 5,
     "status": "ok",
     "timestamp": 1671004307190,
     "user": {
      "displayName": "May Zhang",
      "userId": "17374700244562573141"
     },
     "user_tz": -480
    },
    "id": "1f7dce41"
   },
   "outputs": [],
   "source": [
    "# discretize age feature\n",
    "bank_full['age'] = bank_full['age'].apply(\n",
    "                    lambda x: \"0.<30\"  if x <= 30 else\n",
    "                    \"1.30~50\" if 30 < x <= 50 else\n",
    "                    \"2.>50\" )"
   ]
  },
  {
   "cell_type": "markdown",
   "id": "0f350d8e",
   "metadata": {
    "id": "0f350d8e"
   },
   "source": [
    "#### Test the associations between different bank client features using Chi-square tests"
   ]
  },
  {
   "cell_type": "code",
   "execution_count": 17,
   "id": "52893ad7",
   "metadata": {
    "colab": {
     "base_uri": "https://localhost:8080/"
    },
    "executionInfo": {
     "elapsed": 288,
     "status": "ok",
     "timestamp": 1671004332432,
     "user": {
      "displayName": "May Zhang",
      "userId": "17374700244562573141"
     },
     "user_tz": -480
    },
    "id": "52893ad7",
    "outputId": "677316b6-0b32-4d95-b920-47cb92111de7",
    "scrolled": true
   },
   "outputs": [
    {
     "name": "stdout",
     "output_type": "stream",
     "text": [
      "['age', 'job', 'marital', 'education', 'default', 'housing', 'loan', 'y']\n"
     ]
    }
   ],
   "source": [
    "# features to pair up and be tested by chi2 to see if feature pair are independent from each other\n",
    "chi2_feat = list(client_feat)\n",
    "chi2_feat.append('y')\n",
    "print(chi2_feat)"
   ]
  },
  {
   "cell_type": "code",
   "execution_count": 18,
   "id": "c96fa36c",
   "metadata": {
    "executionInfo": {
     "elapsed": 2,
     "status": "ok",
     "timestamp": 1671004332757,
     "user": {
      "displayName": "May Zhang",
      "userId": "17374700244562573141"
     },
     "user_tz": -480
    },
    "id": "c96fa36c"
   },
   "outputs": [
    {
     "data": {
      "text/plain": [
       "[('age', 'age'),\n",
       " ('age', 'job'),\n",
       " ('age', 'marital'),\n",
       " ('age', 'education'),\n",
       " ('age', 'default')]"
      ]
     },
     "execution_count": 18,
     "metadata": {},
     "output_type": "execute_result"
    }
   ],
   "source": [
    "# pairing up different features\n",
    "group1 = chi2_feat\n",
    "group2 = chi2_feat\n",
    "feat_pair = list(product(group1, group2, repeat=1))\n",
    "# quick look at feature pairs\n",
    "feat_pair[:5]"
   ]
  },
  {
   "cell_type": "code",
   "execution_count": 19,
   "id": "3aa9f52a",
   "metadata": {
    "executionInfo": {
     "elapsed": 1628,
     "status": "ok",
     "timestamp": 1671004334383,
     "user": {
      "displayName": "May Zhang",
      "userId": "17374700244562573141"
     },
     "user_tz": -480
    },
    "id": "3aa9f52a"
   },
   "outputs": [],
   "source": [
    "# calculate chi2 test p-value for each feature pair\n",
    "result = []\n",
    "for i in feat_pair: \n",
    "    if i[0] != i[1]: # exclude a feature pair only containing itself\n",
    "        result.append((i[0], i[1], \n",
    "                       list( ss.chi2_contingency(pd.crosstab(bank_full[chi2_feat][i[0]],\n",
    "                                                             bank_full[chi2_feat][i[1]])))[1]))"
   ]
  },
  {
   "cell_type": "code",
   "execution_count": 20,
   "id": "ed279f6b",
   "metadata": {
    "colab": {
     "base_uri": "https://localhost:8080/"
    },
    "executionInfo": {
     "elapsed": 3,
     "status": "ok",
     "timestamp": 1671004334384,
     "user": {
      "displayName": "May Zhang",
      "userId": "17374700244562573141"
     },
     "user_tz": -480
    },
    "id": "ed279f6b",
    "outputId": "96fb5da3-310e-4a5f-d199-97d300383e4a"
   },
   "outputs": [
    {
     "data": {
      "text/plain": [
       "56"
      ]
     },
     "execution_count": 20,
     "metadata": {},
     "output_type": "execute_result"
    }
   ],
   "source": [
    "# total number of feature pairs calculated\n",
    "len(result)"
   ]
  },
  {
   "cell_type": "code",
   "execution_count": 21,
   "id": "9ee2a106",
   "metadata": {
    "executionInfo": {
     "elapsed": 2,
     "status": "ok",
     "timestamp": 1671004334384,
     "user": {
      "displayName": "May Zhang",
      "userId": "17374700244562573141"
     },
     "user_tz": -480
    },
    "id": "9ee2a106"
   },
   "outputs": [],
   "source": [
    "# tabulate the pair-wise results \n",
    "p_value = pd.DataFrame(result,\n",
    "                       columns = ['features_', 'features', 'p']).pivot(\n",
    "                       index='features_', columns='features', values='p').round(decimals=3)"
   ]
  },
  {
   "cell_type": "code",
   "execution_count": 22,
   "id": "7d5e7a85",
   "metadata": {
    "colab": {
     "base_uri": "https://localhost:8080/",
     "height": 356
    },
    "executionInfo": {
     "elapsed": 3,
     "status": "ok",
     "timestamp": 1671004334931,
     "user": {
      "displayName": "May Zhang",
      "userId": "17374700244562573141"
     },
     "user_tz": -480
    },
    "id": "7d5e7a85",
    "outputId": "862cee00-9430-499f-b48e-894d25bcd3f9",
    "scrolled": false
   },
   "outputs": [
    {
     "name": "stdout",
     "output_type": "stream",
     "text": [
      "There is association between 2 variables if p<0.05. y is not associated with (housing, loan),other variables are correlated with each other.\n"
     ]
    },
    {
     "data": {
      "image/png": "[encoded data removed]",
      "text/plain": [
       "<Figure size 640x480 with 2 Axes>"
      ]
     },
     "metadata": {},
     "output_type": "display_data"
    }
   ],
   "source": [
    "# visualize Chi2 test result (p-values)\n",
    "sns.heatmap(p_value, annot=True)\n",
    "print('There is association between 2 variables if p<0.05. y is not associated with (housing, loan),\\\n",
    "other variables are correlated with each other.')"
   ]
  },
  {
   "cell_type": "markdown",
   "id": "d7e51e45",
   "metadata": {
    "id": "d7e51e45"
   },
   "source": [
    "\"y\" is associated with age, default, education, job, and marital—no association with housing or loan. We are not interested in \"default\". Hence, the selected features would be \"age\", \"job\", \"marital\" and \"education\"."
   ]
  },
  {
   "cell_type": "markdown",
   "id": "339438fa",
   "metadata": {},
   "source": [
    "#### Visualized association between selected feature pairs"
   ]
  },
  {
   "cell_type": "code",
   "execution_count": 23,
   "id": "35a79285",
   "metadata": {
    "scrolled": true
   },
   "outputs": [],
   "source": [
    "# pair up selected features including y\n",
    "pairs = list(product([\"age\", \"job\", \"marital\", \"education\", \"y\"], [\"age\", \"job\", \"marital\", \"education\", \"y\"], repeat=1))\n",
    "# delete the pairs where feature pair with itself\n",
    "for pair in pairs:\n",
    "    if pair[0] == pair[1]:\n",
    "        pairs.remove(pair)"
   ]
  },
  {
   "cell_type": "code",
   "execution_count": 24,
   "id": "c8743dd8",
   "metadata": {
    "scrolled": false
   },
   "outputs": [
    {
     "data": {
      "image/png": "[encoded data removed]",
      "text/plain": [
       "<Figure size 1000x2000 with 21 Axes>"
      ]
     },
     "metadata": {},
     "output_type": "display_data"
    }
   ],
   "source": [
    "# visualize paired features distribution\n",
    "\n",
    "# set a subplot grid\n",
    "fig, axs = plt.subplots(nrows=7, ncols=3, figsize=(10, 20))\n",
    "# set heights and widths between axes\n",
    "plt.subplots_adjust(hspace=0.9, wspace=1.8)\n",
    "# plot feature pairs on axes\n",
    "for pair, ax in zip(pairs, axs.ravel()):\n",
    "    # exclude pairs which feature paired with itself\n",
    "    pd.crosstab(bank_full[pair[0]], bank_full[pair[1]], normalize='index').plot(kind='bar',stacked=True, ax=ax)\n",
    "    ax.legend(bbox_to_anchor=(1, 1))\n",
    "    ax.set_ylabel(pair[1])\n",
    "plt.show()"
   ]
  },
  {
   "cell_type": "markdown",
   "id": "61339766",
   "metadata": {},
   "source": [
    "There are some significant associations as follow:\n",
    "\n",
    "1.\tAge had an evident influence on random variables “job”, “marital”, and “education”\n",
    "\n",
    "    a.\tThe marriage and divorce ratio rose when age increased, while the singular ratio decreased.\n",
    "    \n",
    "    b.\tOlder generations (age above 50) tend to have more basic education and less high school education\n",
    "    \n",
    "    c.\tMost people over 60 were retired, and most students were below 30.\n",
    "    \n",
    "    \n",
    "2.\tStudents and retired people are more willing to subscribe to a term than people with other jobs status.\n",
    "\n",
    "\n",
    "3.\tStudents tend to be single, while the divorce rate rises significantly in retired people.\n",
    "\n",
    "\n",
    "4.\tMost people with “basic” education become “blue-collar”, while the majority of “professional.cource” takers are technicians.\n"
   ]
  },
  {
   "cell_type": "markdown",
   "id": "ee30426a",
   "metadata": {
    "id": "ee30426a"
   },
   "source": [
    "### social and economic context attributes"
   ]
  },
  {
   "cell_type": "code",
   "execution_count": 25,
   "id": "279ad4e8",
   "metadata": {
    "executionInfo": {
     "elapsed": 4,
     "status": "ok",
     "timestamp": 1671004280479,
     "user": {
      "displayName": "May Zhang",
      "userId": "17374700244562573141"
     },
     "user_tz": -480
    },
    "id": "279ad4e8"
   },
   "outputs": [],
   "source": [
    "# name an object \"SE\" to represent social and economic features and \"y\"\n",
    "SE = bank_full.iloc[:,15:].replace({'y':{'yes':1, 'no':0}})"
   ]
  },
  {
   "cell_type": "code",
   "execution_count": 26,
   "id": "08ca6ff7",
   "metadata": {
    "colab": {
     "base_uri": "https://localhost:8080/",
     "height": 238
    },
    "executionInfo": {
     "elapsed": 4,
     "status": "ok",
     "timestamp": 1671004280479,
     "user": {
      "displayName": "May Zhang",
      "userId": "17374700244562573141"
     },
     "user_tz": -480
    },
    "id": "08ca6ff7",
    "outputId": "d6080766-c262-445e-9361-056347d8927f",
    "scrolled": false
   },
   "outputs": [
    {
     "data": {
      "text/html": [
       "<div>\n",
       "<style scoped>\n",
       "    .dataframe tbody tr th:only-of-type {\n",
       "        vertical-align: middle;\n",
       "    }\n",
       "\n",
       "    .dataframe tbody tr th {\n",
       "        vertical-align: top;\n",
       "    }\n",
       "\n",
       "    .dataframe thead th {\n",
       "        text-align: right;\n",
       "    }\n",
       "</style>\n",
       "<table border=\"1\" class=\"dataframe\">\n",
       "  <thead>\n",
       "    <tr style=\"text-align: right;\">\n",
       "      <th></th>\n",
       "      <th>emp.var.rate</th>\n",
       "      <th>cons.price.idx</th>\n",
       "      <th>cons.conf.idx</th>\n",
       "      <th>euribor3m</th>\n",
       "      <th>nr.employed</th>\n",
       "      <th>y</th>\n",
       "    </tr>\n",
       "  </thead>\n",
       "  <tbody>\n",
       "    <tr>\n",
       "      <th>emp.var.rate</th>\n",
       "      <td>1.00</td>\n",
       "      <td>0.78</td>\n",
       "      <td>0.20</td>\n",
       "      <td>0.97</td>\n",
       "      <td>0.91</td>\n",
       "      <td>-0.30</td>\n",
       "    </tr>\n",
       "    <tr>\n",
       "      <th>cons.price.idx</th>\n",
       "      <td>0.78</td>\n",
       "      <td>1.00</td>\n",
       "      <td>0.06</td>\n",
       "      <td>0.69</td>\n",
       "      <td>0.52</td>\n",
       "      <td>-0.14</td>\n",
       "    </tr>\n",
       "    <tr>\n",
       "      <th>cons.conf.idx</th>\n",
       "      <td>0.20</td>\n",
       "      <td>0.06</td>\n",
       "      <td>1.00</td>\n",
       "      <td>0.28</td>\n",
       "      <td>0.10</td>\n",
       "      <td>0.05</td>\n",
       "    </tr>\n",
       "    <tr>\n",
       "      <th>euribor3m</th>\n",
       "      <td>0.97</td>\n",
       "      <td>0.69</td>\n",
       "      <td>0.28</td>\n",
       "      <td>1.00</td>\n",
       "      <td>0.95</td>\n",
       "      <td>-0.31</td>\n",
       "    </tr>\n",
       "    <tr>\n",
       "      <th>nr.employed</th>\n",
       "      <td>0.91</td>\n",
       "      <td>0.52</td>\n",
       "      <td>0.10</td>\n",
       "      <td>0.95</td>\n",
       "      <td>1.00</td>\n",
       "      <td>-0.35</td>\n",
       "    </tr>\n",
       "    <tr>\n",
       "      <th>y</th>\n",
       "      <td>-0.30</td>\n",
       "      <td>-0.14</td>\n",
       "      <td>0.05</td>\n",
       "      <td>-0.31</td>\n",
       "      <td>-0.35</td>\n",
       "      <td>1.00</td>\n",
       "    </tr>\n",
       "  </tbody>\n",
       "</table>\n",
       "</div>"
      ],
      "text/plain": [
       "                emp.var.rate  cons.price.idx  cons.conf.idx  euribor3m  \\\n",
       "emp.var.rate            1.00            0.78           0.20       0.97   \n",
       "cons.price.idx          0.78            1.00           0.06       0.69   \n",
       "cons.conf.idx           0.20            0.06           1.00       0.28   \n",
       "euribor3m               0.97            0.69           0.28       1.00   \n",
       "nr.employed             0.91            0.52           0.10       0.95   \n",
       "y                      -0.30           -0.14           0.05      -0.31   \n",
       "\n",
       "                nr.employed     y  \n",
       "emp.var.rate           0.91 -0.30  \n",
       "cons.price.idx         0.52 -0.14  \n",
       "cons.conf.idx          0.10  0.05  \n",
       "euribor3m              0.95 -0.31  \n",
       "nr.employed            1.00 -0.35  \n",
       "y                     -0.35  1.00  "
      ]
     },
     "execution_count": 26,
     "metadata": {},
     "output_type": "execute_result"
    }
   ],
   "source": [
    "SE.corr().round(decimals=2)"
   ]
  },
  {
   "cell_type": "code",
   "execution_count": 27,
   "id": "beb08a75",
   "metadata": {
    "colab": {
     "base_uri": "https://localhost:8080/",
     "height": 455
    },
    "executionInfo": {
     "elapsed": 358,
     "status": "ok",
     "timestamp": 1671004280833,
     "user": {
      "displayName": "May Zhang",
      "userId": "17374700244562573141"
     },
     "user_tz": -480
    },
    "id": "beb08a75",
    "outputId": "44144372-0f0f-49fa-f264-ac59bc32470f",
    "scrolled": false
   },
   "outputs": [
    {
     "data": {
      "text/plain": [
       "<AxesSubplot:>"
      ]
     },
     "execution_count": 27,
     "metadata": {},
     "output_type": "execute_result"
    },
    {
     "data": {
      "image/png": "[encoded data removed]",
      "text/plain": [
       "<Figure size 600x600 with 2 Axes>"
      ]
     },
     "metadata": {},
     "output_type": "display_data"
    }
   ],
   "source": [
    "# visualize correlations between variables\n",
    "plt.figure(figsize=(6,6))\n",
    "sns.heatmap(SE.corr().round(decimals=2), annot=True)"
   ]
  },
  {
   "cell_type": "markdown",
   "id": "73b30a6e",
   "metadata": {},
   "source": [
    "It seems 'emp.var.rate' could informativly represent 'euribor3m' and 'nr.employed', while 'cons.conf.idx' is not informative to 'y'"
   ]
  },
  {
   "cell_type": "code",
   "execution_count": 28,
   "id": "b334ba00",
   "metadata": {
    "colab": {
     "base_uri": "https://localhost:8080/",
     "height": 300
    },
    "executionInfo": {
     "elapsed": 3,
     "status": "ok",
     "timestamp": 1671004280834,
     "user": {
      "displayName": "May Zhang",
      "userId": "17374700244562573141"
     },
     "user_tz": -480
    },
    "id": "b334ba00",
    "outputId": "e0ad8aaf-d9e4-4fe8-993b-38f9105f9f23"
   },
   "outputs": [
    {
     "data": {
      "text/html": [
       "<div>\n",
       "<style scoped>\n",
       "    .dataframe tbody tr th:only-of-type {\n",
       "        vertical-align: middle;\n",
       "    }\n",
       "\n",
       "    .dataframe tbody tr th {\n",
       "        vertical-align: top;\n",
       "    }\n",
       "\n",
       "    .dataframe thead th {\n",
       "        text-align: right;\n",
       "    }\n",
       "</style>\n",
       "<table border=\"1\" class=\"dataframe\">\n",
       "  <thead>\n",
       "    <tr style=\"text-align: right;\">\n",
       "      <th></th>\n",
       "      <th>emp.var.rate</th>\n",
       "      <th>cons.price.idx</th>\n",
       "    </tr>\n",
       "  </thead>\n",
       "  <tbody>\n",
       "    <tr>\n",
       "      <th>count</th>\n",
       "      <td>40769.000000</td>\n",
       "      <td>40769.000000</td>\n",
       "    </tr>\n",
       "    <tr>\n",
       "      <th>mean</th>\n",
       "      <td>0.080610</td>\n",
       "      <td>93.574918</td>\n",
       "    </tr>\n",
       "    <tr>\n",
       "      <th>std</th>\n",
       "      <td>1.570076</td>\n",
       "      <td>0.578516</td>\n",
       "    </tr>\n",
       "    <tr>\n",
       "      <th>min</th>\n",
       "      <td>-3.400000</td>\n",
       "      <td>92.201000</td>\n",
       "    </tr>\n",
       "    <tr>\n",
       "      <th>25%</th>\n",
       "      <td>-1.800000</td>\n",
       "      <td>93.075000</td>\n",
       "    </tr>\n",
       "    <tr>\n",
       "      <th>50%</th>\n",
       "      <td>1.100000</td>\n",
       "      <td>93.749000</td>\n",
       "    </tr>\n",
       "    <tr>\n",
       "      <th>75%</th>\n",
       "      <td>1.400000</td>\n",
       "      <td>93.994000</td>\n",
       "    </tr>\n",
       "    <tr>\n",
       "      <th>max</th>\n",
       "      <td>1.400000</td>\n",
       "      <td>94.767000</td>\n",
       "    </tr>\n",
       "  </tbody>\n",
       "</table>\n",
       "</div>"
      ],
      "text/plain": [
       "       emp.var.rate  cons.price.idx\n",
       "count  40769.000000    40769.000000\n",
       "mean       0.080610       93.574918\n",
       "std        1.570076        0.578516\n",
       "min       -3.400000       92.201000\n",
       "25%       -1.800000       93.075000\n",
       "50%        1.100000       93.749000\n",
       "75%        1.400000       93.994000\n",
       "max        1.400000       94.767000"
      ]
     },
     "execution_count": 28,
     "metadata": {},
     "output_type": "execute_result"
    }
   ],
   "source": [
    "# stats of \"SE\"\n",
    "SE[['emp.var.rate', 'cons.price.idx']].describe()"
   ]
  },
  {
   "cell_type": "markdown",
   "id": "64dd3d74",
   "metadata": {},
   "source": [
    "##### Discretize continous social and economic features"
   ]
  },
  {
   "cell_type": "code",
   "execution_count": 29,
   "id": "52a9fc1c",
   "metadata": {
    "colab": {
     "base_uri": "https://localhost:8080/",
     "height": 700
    },
    "executionInfo": {
     "elapsed": 516,
     "status": "ok",
     "timestamp": 1671005848325,
     "user": {
      "displayName": "May Zhang",
      "userId": "17374700244562573141"
     },
     "user_tz": -480
    },
    "id": "52a9fc1c",
    "outputId": "7cff034e-e62a-41e4-d733-5171b2a91eb1",
    "scrolled": false
   },
   "outputs": [
    {
     "data": {
      "image/png": "[encoded data removed]",
      "text/plain": [
       "<Figure size 600x600 with 2 Axes>"
      ]
     },
     "metadata": {},
     "output_type": "display_data"
    }
   ],
   "source": [
    "fig = plt.figure(figsize=(6,6))\n",
    "j=1\n",
    "\n",
    "for i in ['emp.var.rate', 'cons.price.idx']:\n",
    "    plt.subplot(1,2,j)\n",
    "    SE[i].plot()\n",
    "    j = j+1\n",
    "plt.show()"
   ]
  },
  {
   "cell_type": "code",
   "execution_count": 30,
   "id": "3kNYCnJZZzP5",
   "metadata": {
    "executionInfo": {
     "elapsed": 580,
     "status": "ok",
     "timestamp": 1671005866892,
     "user": {
      "displayName": "May Zhang",
      "userId": "17374700244562573141"
     },
     "user_tz": -480
    },
    "id": "3kNYCnJZZzP5"
   },
   "outputs": [],
   "source": [
    "\n",
    "SE['emp.var.rate'] = SE['emp.var.rate'].apply(lambda x:\n",
    "                                            \">0\" if x >= 0 else\n",
    "                                            \"-2~0\" if 0 > x >=-2 else\n",
    "                                            \"<-2\"         \n",
    "                                            )"
   ]
  },
  {
   "cell_type": "code",
   "execution_count": 31,
   "id": "IS7CvXIAZzpq",
   "metadata": {
    "executionInfo": {
     "elapsed": 276,
     "status": "ok",
     "timestamp": 1671005871873,
     "user": {
      "displayName": "May Zhang",
      "userId": "17374700244562573141"
     },
     "user_tz": -480
    },
    "id": "IS7CvXIAZzpq"
   },
   "outputs": [],
   "source": [
    "SE['cons.price.idx'] = SE['cons.price.idx'].apply(lambda x:\n",
    "                                                \">94\" if x >= 94 else\n",
    "                                                \"93~94\" if 94 > x >= 93 else\n",
    "                                                \"<93\" \n",
    "                                                )"
   ]
  },
  {
   "cell_type": "markdown",
   "id": "9ec07707",
   "metadata": {
    "id": "9ec07707"
   },
   "source": [
    "## Choose variables and instantiate bayesian network model with edges"
   ]
  },
  {
   "cell_type": "code",
   "execution_count": 32,
   "id": "j0Uw0Az0kjML",
   "metadata": {
    "executionInfo": {
     "elapsed": 292,
     "status": "ok",
     "timestamp": 1671006075886,
     "user": {
      "displayName": "May Zhang",
      "userId": "17374700244562573141"
     },
     "user_tz": -480
    },
    "id": "j0Uw0Az0kjML"
   },
   "outputs": [],
   "source": [
    "# create new data frame with the target data\n",
    "df = pd.concat([SE[['emp.var.rate', 'cons.price.idx']], \n",
    "                bank_full[['age', 'education','marital', 'job', 'y']]\n",
    "               ], axis=1)"
   ]
  },
  {
   "cell_type": "code",
   "execution_count": 33,
   "id": "_lUZKOWekjWH",
   "metadata": {
    "colab": {
     "base_uri": "https://localhost:8080/",
     "height": 206
    },
    "executionInfo": {
     "elapsed": 290,
     "status": "ok",
     "timestamp": 1671006078650,
     "user": {
      "displayName": "May Zhang",
      "userId": "17374700244562573141"
     },
     "user_tz": -480
    },
    "id": "_lUZKOWekjWH",
    "outputId": "3f2da6b4-4649-4f47-ccd4-38fd21cfe00e"
   },
   "outputs": [
    {
     "data": {
      "text/html": [
       "<div>\n",
       "<style scoped>\n",
       "    .dataframe tbody tr th:only-of-type {\n",
       "        vertical-align: middle;\n",
       "    }\n",
       "\n",
       "    .dataframe tbody tr th {\n",
       "        vertical-align: top;\n",
       "    }\n",
       "\n",
       "    .dataframe thead th {\n",
       "        text-align: right;\n",
       "    }\n",
       "</style>\n",
       "<table border=\"1\" class=\"dataframe\">\n",
       "  <thead>\n",
       "    <tr style=\"text-align: right;\">\n",
       "      <th></th>\n",
       "      <th>emp.var.rate</th>\n",
       "      <th>cons.price.idx</th>\n",
       "      <th>age</th>\n",
       "      <th>education</th>\n",
       "      <th>marital</th>\n",
       "      <th>job</th>\n",
       "      <th>y</th>\n",
       "    </tr>\n",
       "  </thead>\n",
       "  <tbody>\n",
       "    <tr>\n",
       "      <th>0</th>\n",
       "      <td>&gt;0</td>\n",
       "      <td>93~94</td>\n",
       "      <td>2.&gt;50</td>\n",
       "      <td>basic</td>\n",
       "      <td>married</td>\n",
       "      <td>housemaid</td>\n",
       "      <td>no</td>\n",
       "    </tr>\n",
       "    <tr>\n",
       "      <th>1</th>\n",
       "      <td>&gt;0</td>\n",
       "      <td>93~94</td>\n",
       "      <td>2.&gt;50</td>\n",
       "      <td>high.school</td>\n",
       "      <td>married</td>\n",
       "      <td>services</td>\n",
       "      <td>no</td>\n",
       "    </tr>\n",
       "    <tr>\n",
       "      <th>2</th>\n",
       "      <td>&gt;0</td>\n",
       "      <td>93~94</td>\n",
       "      <td>1.30~50</td>\n",
       "      <td>high.school</td>\n",
       "      <td>married</td>\n",
       "      <td>services</td>\n",
       "      <td>no</td>\n",
       "    </tr>\n",
       "    <tr>\n",
       "      <th>3</th>\n",
       "      <td>&gt;0</td>\n",
       "      <td>93~94</td>\n",
       "      <td>1.30~50</td>\n",
       "      <td>basic</td>\n",
       "      <td>married</td>\n",
       "      <td>admin.</td>\n",
       "      <td>no</td>\n",
       "    </tr>\n",
       "    <tr>\n",
       "      <th>4</th>\n",
       "      <td>&gt;0</td>\n",
       "      <td>93~94</td>\n",
       "      <td>2.&gt;50</td>\n",
       "      <td>high.school</td>\n",
       "      <td>married</td>\n",
       "      <td>services</td>\n",
       "      <td>no</td>\n",
       "    </tr>\n",
       "  </tbody>\n",
       "</table>\n",
       "</div>"
      ],
      "text/plain": [
       "  emp.var.rate cons.price.idx      age    education  marital        job   y\n",
       "0           >0          93~94    2.>50        basic  married  housemaid  no\n",
       "1           >0          93~94    2.>50  high.school  married   services  no\n",
       "2           >0          93~94  1.30~50  high.school  married   services  no\n",
       "3           >0          93~94  1.30~50        basic  married     admin.  no\n",
       "4           >0          93~94    2.>50  high.school  married   services  no"
      ]
     },
     "execution_count": 33,
     "metadata": {},
     "output_type": "execute_result"
    }
   ],
   "source": [
    "# quick look at target data\n",
    "df.head()"
   ]
  },
  {
   "cell_type": "markdown",
   "id": "XXdnIdWUl4hI",
   "metadata": {
    "id": "XXdnIdWUl4hI"
   },
   "source": [
    "## Calculate CPD values (visualize in two decimal place)"
   ]
  },
  {
   "cell_type": "markdown",
   "id": "PLHbHfX2oZq8",
   "metadata": {
    "id": "PLHbHfX2oZq8"
   },
   "source": [
    "### P('cons.price.idx') "
   ]
  },
  {
   "cell_type": "code",
   "execution_count": 34,
   "id": "sRgNu52ekjb1",
   "metadata": {
    "colab": {
     "base_uri": "https://localhost:8080/",
     "height": 896
    },
    "executionInfo": {
     "elapsed": 278,
     "status": "ok",
     "timestamp": 1671004346960,
     "user": {
      "displayName": "May Zhang",
      "userId": "17374700244562573141"
     },
     "user_tz": -480
    },
    "id": "sRgNu52ekjb1",
    "outputId": "8661827e-d244-4718-9b98-1e704b35e114"
   },
   "outputs": [
    {
     "data": {
      "text/html": [
       "<div>\n",
       "<style scoped>\n",
       "    .dataframe tbody tr th:only-of-type {\n",
       "        vertical-align: middle;\n",
       "    }\n",
       "\n",
       "    .dataframe tbody tr th {\n",
       "        vertical-align: top;\n",
       "    }\n",
       "\n",
       "    .dataframe thead th {\n",
       "        text-align: right;\n",
       "    }\n",
       "</style>\n",
       "<table border=\"1\" class=\"dataframe\">\n",
       "  <thead>\n",
       "    <tr style=\"text-align: right;\">\n",
       "      <th>col_0</th>\n",
       "      <th>Empty</th>\n",
       "    </tr>\n",
       "    <tr>\n",
       "      <th>cons.price.idx</th>\n",
       "      <th></th>\n",
       "    </tr>\n",
       "  </thead>\n",
       "  <tbody>\n",
       "    <tr>\n",
       "      <th>93~94</th>\n",
       "      <td>0.64</td>\n",
       "    </tr>\n",
       "    <tr>\n",
       "      <th>&lt;93</th>\n",
       "      <td>0.22</td>\n",
       "    </tr>\n",
       "    <tr>\n",
       "      <th>&gt;94</th>\n",
       "      <td>0.14</td>\n",
       "    </tr>\n",
       "  </tbody>\n",
       "</table>\n",
       "</div>"
      ],
      "text/plain": [
       "col_0           Empty\n",
       "cons.price.idx       \n",
       "93~94            0.64\n",
       "<93              0.22\n",
       ">94              0.14"
      ]
     },
     "execution_count": 34,
     "metadata": {},
     "output_type": "execute_result"
    }
   ],
   "source": [
    "pd.crosstab(df['cons.price.idx'], 'Empty', margins = False, normalize = 'columns').apply(lambda x: round(x,2))\n",
    "  "
   ]
  },
  {
   "cell_type": "markdown",
   "id": "Rr12xpVtotTQ",
   "metadata": {
    "id": "Rr12xpVtotTQ"
   },
   "source": [
    "### P('age')"
   ]
  },
  {
   "cell_type": "code",
   "execution_count": 35,
   "id": "89cb21f7",
   "metadata": {
    "colab": {
     "base_uri": "https://localhost:8080/",
     "height": 0
    },
    "executionInfo": {
     "elapsed": 274,
     "status": "ok",
     "timestamp": 1671004359869,
     "user": {
      "displayName": "May Zhang",
      "userId": "17374700244562573141"
     },
     "user_tz": -480
    },
    "id": "89cb21f7",
    "outputId": "065767ab-8853-4b08-88b9-be7ba96a2537"
   },
   "outputs": [
    {
     "data": {
      "text/html": [
       "<div>\n",
       "<style scoped>\n",
       "    .dataframe tbody tr th:only-of-type {\n",
       "        vertical-align: middle;\n",
       "    }\n",
       "\n",
       "    .dataframe tbody tr th {\n",
       "        vertical-align: top;\n",
       "    }\n",
       "\n",
       "    .dataframe thead th {\n",
       "        text-align: right;\n",
       "    }\n",
       "</style>\n",
       "<table border=\"1\" class=\"dataframe\">\n",
       "  <thead>\n",
       "    <tr style=\"text-align: right;\">\n",
       "      <th>col_0</th>\n",
       "      <th>Empty</th>\n",
       "    </tr>\n",
       "    <tr>\n",
       "      <th>age</th>\n",
       "      <th></th>\n",
       "    </tr>\n",
       "  </thead>\n",
       "  <tbody>\n",
       "    <tr>\n",
       "      <th>0.&lt;30</th>\n",
       "      <td>0.18</td>\n",
       "    </tr>\n",
       "    <tr>\n",
       "      <th>1.30~50</th>\n",
       "      <td>0.65</td>\n",
       "    </tr>\n",
       "    <tr>\n",
       "      <th>2.&gt;50</th>\n",
       "      <td>0.17</td>\n",
       "    </tr>\n",
       "  </tbody>\n",
       "</table>\n",
       "</div>"
      ],
      "text/plain": [
       "col_0    Empty\n",
       "age           \n",
       "0.<30     0.18\n",
       "1.30~50   0.65\n",
       "2.>50     0.17"
      ]
     },
     "execution_count": 35,
     "metadata": {},
     "output_type": "execute_result"
    }
   ],
   "source": [
    "pd.crosstab(df['age'], 'Empty', margins = False, normalize = 'columns').apply(lambda x: round(x,2))"
   ]
  },
  {
   "cell_type": "markdown",
   "id": "BQlDrqBNo4sz",
   "metadata": {
    "id": "BQlDrqBNo4sz"
   },
   "source": [
    "### P('emp.var.rate'|'cons.price.idx')"
   ]
  },
  {
   "cell_type": "code",
   "execution_count": 36,
   "id": "Mo7YfzCvo2fQ",
   "metadata": {
    "colab": {
     "base_uri": "https://localhost:8080/",
     "height": 0
    },
    "executionInfo": {
     "elapsed": 495,
     "status": "ok",
     "timestamp": 1671004361499,
     "user": {
      "displayName": "May Zhang",
      "userId": "17374700244562573141"
     },
     "user_tz": -480
    },
    "id": "Mo7YfzCvo2fQ",
    "outputId": "3a0a8597-f709-4efb-d599-38ed4e9869ab"
   },
   "outputs": [
    {
     "data": {
      "text/html": [
       "<div>\n",
       "<style scoped>\n",
       "    .dataframe tbody tr th:only-of-type {\n",
       "        vertical-align: middle;\n",
       "    }\n",
       "\n",
       "    .dataframe tbody tr th {\n",
       "        vertical-align: top;\n",
       "    }\n",
       "\n",
       "    .dataframe thead th {\n",
       "        text-align: right;\n",
       "    }\n",
       "</style>\n",
       "<table border=\"1\" class=\"dataframe\">\n",
       "  <thead>\n",
       "    <tr style=\"text-align: right;\">\n",
       "      <th>cons.price.idx</th>\n",
       "      <th>93~94</th>\n",
       "      <th>&lt;93</th>\n",
       "      <th>&gt;94</th>\n",
       "      <th>All</th>\n",
       "    </tr>\n",
       "    <tr>\n",
       "      <th>emp.var.rate</th>\n",
       "      <th></th>\n",
       "      <th></th>\n",
       "      <th></th>\n",
       "      <th></th>\n",
       "    </tr>\n",
       "  </thead>\n",
       "  <tbody>\n",
       "    <tr>\n",
       "      <th>-2~0</th>\n",
       "      <td>0.26</td>\n",
       "      <td>0.68</td>\n",
       "      <td>0.24</td>\n",
       "      <td>0.35</td>\n",
       "    </tr>\n",
       "    <tr>\n",
       "      <th>&lt;-2</th>\n",
       "      <td>0.00</td>\n",
       "      <td>0.32</td>\n",
       "      <td>0.00</td>\n",
       "      <td>0.07</td>\n",
       "    </tr>\n",
       "    <tr>\n",
       "      <th>&gt;0</th>\n",
       "      <td>0.74</td>\n",
       "      <td>0.00</td>\n",
       "      <td>0.76</td>\n",
       "      <td>0.58</td>\n",
       "    </tr>\n",
       "  </tbody>\n",
       "</table>\n",
       "</div>"
      ],
      "text/plain": [
       "cons.price.idx  93~94   <93   >94   All\n",
       "emp.var.rate                           \n",
       "-2~0             0.26  0.68  0.24  0.35\n",
       "<-2              0.00  0.32  0.00  0.07\n",
       ">0               0.74  0.00  0.76  0.58"
      ]
     },
     "execution_count": 36,
     "metadata": {},
     "output_type": "execute_result"
    }
   ],
   "source": [
    "pd.crosstab(df['emp.var.rate'],df['cons.price.idx'], margins = True, normalize = 'columns').apply(lambda x: round(x,2))"
   ]
  },
  {
   "cell_type": "markdown",
   "id": "l8MxRwjUqJV3",
   "metadata": {
    "id": "l8MxRwjUqJV3"
   },
   "source": [
    "### P('education'|'age')"
   ]
  },
  {
   "cell_type": "code",
   "execution_count": 37,
   "id": "T0RueZeppdnu",
   "metadata": {
    "colab": {
     "base_uri": "https://localhost:8080/",
     "height": 0
    },
    "executionInfo": {
     "elapsed": 3,
     "status": "ok",
     "timestamp": 1671004365064,
     "user": {
      "displayName": "May Zhang",
      "userId": "17374700244562573141"
     },
     "user_tz": -480
    },
    "id": "T0RueZeppdnu",
    "outputId": "befa1d7a-0f71-4fdd-bec2-28d4c8237788"
   },
   "outputs": [
    {
     "data": {
      "text/html": [
       "<div>\n",
       "<style scoped>\n",
       "    .dataframe tbody tr th:only-of-type {\n",
       "        vertical-align: middle;\n",
       "    }\n",
       "\n",
       "    .dataframe tbody tr th {\n",
       "        vertical-align: top;\n",
       "    }\n",
       "\n",
       "    .dataframe thead th {\n",
       "        text-align: right;\n",
       "    }\n",
       "</style>\n",
       "<table border=\"1\" class=\"dataframe\">\n",
       "  <thead>\n",
       "    <tr style=\"text-align: right;\">\n",
       "      <th>age</th>\n",
       "      <th>0.&lt;30</th>\n",
       "      <th>1.30~50</th>\n",
       "      <th>2.&gt;50</th>\n",
       "      <th>All</th>\n",
       "    </tr>\n",
       "    <tr>\n",
       "      <th>education</th>\n",
       "      <th></th>\n",
       "      <th></th>\n",
       "      <th></th>\n",
       "      <th></th>\n",
       "    </tr>\n",
       "  </thead>\n",
       "  <tbody>\n",
       "    <tr>\n",
       "      <th>basic</th>\n",
       "      <td>0.23</td>\n",
       "      <td>0.30</td>\n",
       "      <td>0.39</td>\n",
       "      <td>0.30</td>\n",
       "    </tr>\n",
       "    <tr>\n",
       "      <th>high.school</th>\n",
       "      <td>0.31</td>\n",
       "      <td>0.23</td>\n",
       "      <td>0.17</td>\n",
       "      <td>0.23</td>\n",
       "    </tr>\n",
       "    <tr>\n",
       "      <th>professional.course</th>\n",
       "      <td>0.11</td>\n",
       "      <td>0.13</td>\n",
       "      <td>0.12</td>\n",
       "      <td>0.13</td>\n",
       "    </tr>\n",
       "    <tr>\n",
       "      <th>university.degree</th>\n",
       "      <td>0.31</td>\n",
       "      <td>0.30</td>\n",
       "      <td>0.26</td>\n",
       "      <td>0.30</td>\n",
       "    </tr>\n",
       "    <tr>\n",
       "      <th>unknown</th>\n",
       "      <td>0.04</td>\n",
       "      <td>0.03</td>\n",
       "      <td>0.06</td>\n",
       "      <td>0.04</td>\n",
       "    </tr>\n",
       "  </tbody>\n",
       "</table>\n",
       "</div>"
      ],
      "text/plain": [
       "age                  0.<30  1.30~50  2.>50   All\n",
       "education                                       \n",
       "basic                 0.23     0.30   0.39  0.30\n",
       "high.school           0.31     0.23   0.17  0.23\n",
       "professional.course   0.11     0.13   0.12  0.13\n",
       "university.degree     0.31     0.30   0.26  0.30\n",
       "unknown               0.04     0.03   0.06  0.04"
      ]
     },
     "execution_count": 37,
     "metadata": {},
     "output_type": "execute_result"
    }
   ],
   "source": [
    "pd.crosstab(df['education'],df['age'], margins = True, normalize = 'columns').apply(lambda x: round(x,2))"
   ]
  },
  {
   "cell_type": "markdown",
   "id": "9f6d7f33",
   "metadata": {
    "executionInfo": {
     "elapsed": 6,
     "status": "ok",
     "timestamp": 1671004365634,
     "user": {
      "displayName": "May Zhang",
      "userId": "17374700244562573141"
     },
     "user_tz": -480
    },
    "id": "4SOqYmQoqxgV"
   },
   "source": [
    "### P('marital'|'age')"
   ]
  },
  {
   "cell_type": "code",
   "execution_count": 38,
   "id": "09def011",
   "metadata": {},
   "outputs": [
    {
     "data": {
      "text/html": [
       "<div>\n",
       "<style scoped>\n",
       "    .dataframe tbody tr th:only-of-type {\n",
       "        vertical-align: middle;\n",
       "    }\n",
       "\n",
       "    .dataframe tbody tr th {\n",
       "        vertical-align: top;\n",
       "    }\n",
       "\n",
       "    .dataframe thead th {\n",
       "        text-align: right;\n",
       "    }\n",
       "</style>\n",
       "<table border=\"1\" class=\"dataframe\">\n",
       "  <thead>\n",
       "    <tr style=\"text-align: right;\">\n",
       "      <th>age</th>\n",
       "      <th>0.&lt;30</th>\n",
       "      <th>1.30~50</th>\n",
       "      <th>2.&gt;50</th>\n",
       "      <th>All</th>\n",
       "    </tr>\n",
       "    <tr>\n",
       "      <th>marital</th>\n",
       "      <th></th>\n",
       "      <th></th>\n",
       "      <th></th>\n",
       "      <th></th>\n",
       "    </tr>\n",
       "  </thead>\n",
       "  <tbody>\n",
       "    <tr>\n",
       "      <th>divorced</th>\n",
       "      <td>0.03</td>\n",
       "      <td>0.12</td>\n",
       "      <td>0.19</td>\n",
       "      <td>0.11</td>\n",
       "    </tr>\n",
       "    <tr>\n",
       "      <th>married</th>\n",
       "      <td>0.32</td>\n",
       "      <td>0.64</td>\n",
       "      <td>0.76</td>\n",
       "      <td>0.61</td>\n",
       "    </tr>\n",
       "    <tr>\n",
       "      <th>single</th>\n",
       "      <td>0.64</td>\n",
       "      <td>0.24</td>\n",
       "      <td>0.05</td>\n",
       "      <td>0.28</td>\n",
       "    </tr>\n",
       "  </tbody>\n",
       "</table>\n",
       "</div>"
      ],
      "text/plain": [
       "age       0.<30  1.30~50  2.>50   All\n",
       "marital                              \n",
       "divorced   0.03     0.12   0.19  0.11\n",
       "married    0.32     0.64   0.76  0.61\n",
       "single     0.64     0.24   0.05  0.28"
      ]
     },
     "execution_count": 38,
     "metadata": {},
     "output_type": "execute_result"
    }
   ],
   "source": [
    "pd.crosstab(df['marital'],df['age'], margins = True, normalize = 'columns').apply(lambda x: round(x,2))"
   ]
  },
  {
   "cell_type": "markdown",
   "id": "Ncp2u-dnqfpv",
   "metadata": {
    "id": "Ncp2u-dnqfpv"
   },
   "source": [
    "#### P('job'|'education', 'marital')"
   ]
  },
  {
   "cell_type": "code",
   "execution_count": 39,
   "id": "bVPzaBump_7z",
   "metadata": {
    "colab": {
     "base_uri": "https://localhost:8080/",
     "height": 0
    },
    "executionInfo": {
     "elapsed": 6,
     "status": "ok",
     "timestamp": 1671004365633,
     "user": {
      "displayName": "May Zhang",
      "userId": "17374700244562573141"
     },
     "user_tz": -480
    },
    "id": "bVPzaBump_7z",
    "outputId": "4128e425-813c-4172-eae7-741f3573291b"
   },
   "outputs": [
    {
     "data": {
      "text/html": [
       "<div>\n",
       "<style scoped>\n",
       "    .dataframe tbody tr th:only-of-type {\n",
       "        vertical-align: middle;\n",
       "    }\n",
       "\n",
       "    .dataframe tbody tr th {\n",
       "        vertical-align: top;\n",
       "    }\n",
       "\n",
       "    .dataframe thead tr th {\n",
       "        text-align: left;\n",
       "    }\n",
       "\n",
       "    .dataframe thead tr:last-of-type th {\n",
       "        text-align: right;\n",
       "    }\n",
       "</style>\n",
       "<table border=\"1\" class=\"dataframe\">\n",
       "  <thead>\n",
       "    <tr>\n",
       "      <th>education</th>\n",
       "      <th colspan=\"3\" halign=\"left\">basic</th>\n",
       "      <th colspan=\"3\" halign=\"left\">high.school</th>\n",
       "      <th colspan=\"3\" halign=\"left\">professional.course</th>\n",
       "      <th colspan=\"3\" halign=\"left\">university.degree</th>\n",
       "      <th colspan=\"3\" halign=\"left\">unknown</th>\n",
       "      <th>All</th>\n",
       "    </tr>\n",
       "    <tr>\n",
       "      <th>marital</th>\n",
       "      <th>divorced</th>\n",
       "      <th>married</th>\n",
       "      <th>single</th>\n",
       "      <th>divorced</th>\n",
       "      <th>married</th>\n",
       "      <th>single</th>\n",
       "      <th>divorced</th>\n",
       "      <th>married</th>\n",
       "      <th>single</th>\n",
       "      <th>divorced</th>\n",
       "      <th>married</th>\n",
       "      <th>single</th>\n",
       "      <th>divorced</th>\n",
       "      <th>married</th>\n",
       "      <th>single</th>\n",
       "      <th></th>\n",
       "    </tr>\n",
       "    <tr>\n",
       "      <th>job</th>\n",
       "      <th></th>\n",
       "      <th></th>\n",
       "      <th></th>\n",
       "      <th></th>\n",
       "      <th></th>\n",
       "      <th></th>\n",
       "      <th></th>\n",
       "      <th></th>\n",
       "      <th></th>\n",
       "      <th></th>\n",
       "      <th></th>\n",
       "      <th></th>\n",
       "      <th></th>\n",
       "      <th></th>\n",
       "      <th></th>\n",
       "      <th></th>\n",
       "    </tr>\n",
       "  </thead>\n",
       "  <tbody>\n",
       "    <tr>\n",
       "      <th>admin.</th>\n",
       "      <td>0.08</td>\n",
       "      <td>0.05</td>\n",
       "      <td>0.09</td>\n",
       "      <td>0.37</td>\n",
       "      <td>0.33</td>\n",
       "      <td>0.37</td>\n",
       "      <td>0.07</td>\n",
       "      <td>0.07</td>\n",
       "      <td>0.07</td>\n",
       "      <td>0.50</td>\n",
       "      <td>0.43</td>\n",
       "      <td>0.53</td>\n",
       "      <td>0.14</td>\n",
       "      <td>0.16</td>\n",
       "      <td>0.16</td>\n",
       "      <td>0.26</td>\n",
       "    </tr>\n",
       "    <tr>\n",
       "      <th>blue-collar</th>\n",
       "      <td>0.45</td>\n",
       "      <td>0.61</td>\n",
       "      <td>0.60</td>\n",
       "      <td>0.06</td>\n",
       "      <td>0.09</td>\n",
       "      <td>0.11</td>\n",
       "      <td>0.05</td>\n",
       "      <td>0.11</td>\n",
       "      <td>0.06</td>\n",
       "      <td>0.00</td>\n",
       "      <td>0.00</td>\n",
       "      <td>0.01</td>\n",
       "      <td>0.32</td>\n",
       "      <td>0.32</td>\n",
       "      <td>0.18</td>\n",
       "      <td>0.23</td>\n",
       "    </tr>\n",
       "    <tr>\n",
       "      <th>entrepreneur</th>\n",
       "      <td>0.02</td>\n",
       "      <td>0.04</td>\n",
       "      <td>0.02</td>\n",
       "      <td>0.04</td>\n",
       "      <td>0.03</td>\n",
       "      <td>0.01</td>\n",
       "      <td>0.02</td>\n",
       "      <td>0.03</td>\n",
       "      <td>0.01</td>\n",
       "      <td>0.06</td>\n",
       "      <td>0.06</td>\n",
       "      <td>0.03</td>\n",
       "      <td>0.05</td>\n",
       "      <td>0.04</td>\n",
       "      <td>0.01</td>\n",
       "      <td>0.04</td>\n",
       "    </tr>\n",
       "    <tr>\n",
       "      <th>housemaid</th>\n",
       "      <td>0.08</td>\n",
       "      <td>0.06</td>\n",
       "      <td>0.02</td>\n",
       "      <td>0.02</td>\n",
       "      <td>0.02</td>\n",
       "      <td>0.01</td>\n",
       "      <td>0.02</td>\n",
       "      <td>0.01</td>\n",
       "      <td>0.01</td>\n",
       "      <td>0.01</td>\n",
       "      <td>0.01</td>\n",
       "      <td>0.01</td>\n",
       "      <td>0.05</td>\n",
       "      <td>0.03</td>\n",
       "      <td>0.01</td>\n",
       "      <td>0.03</td>\n",
       "    </tr>\n",
       "    <tr>\n",
       "      <th>management</th>\n",
       "      <td>0.02</td>\n",
       "      <td>0.03</td>\n",
       "      <td>0.02</td>\n",
       "      <td>0.03</td>\n",
       "      <td>0.04</td>\n",
       "      <td>0.01</td>\n",
       "      <td>0.02</td>\n",
       "      <td>0.02</td>\n",
       "      <td>0.01</td>\n",
       "      <td>0.18</td>\n",
       "      <td>0.22</td>\n",
       "      <td>0.09</td>\n",
       "      <td>0.07</td>\n",
       "      <td>0.10</td>\n",
       "      <td>0.03</td>\n",
       "      <td>0.07</td>\n",
       "    </tr>\n",
       "    <tr>\n",
       "      <th>retired</th>\n",
       "      <td>0.14</td>\n",
       "      <td>0.07</td>\n",
       "      <td>0.01</td>\n",
       "      <td>0.04</td>\n",
       "      <td>0.04</td>\n",
       "      <td>0.01</td>\n",
       "      <td>0.08</td>\n",
       "      <td>0.06</td>\n",
       "      <td>0.01</td>\n",
       "      <td>0.04</td>\n",
       "      <td>0.03</td>\n",
       "      <td>0.01</td>\n",
       "      <td>0.05</td>\n",
       "      <td>0.09</td>\n",
       "      <td>0.01</td>\n",
       "      <td>0.04</td>\n",
       "    </tr>\n",
       "    <tr>\n",
       "      <th>self-employed</th>\n",
       "      <td>0.02</td>\n",
       "      <td>0.03</td>\n",
       "      <td>0.02</td>\n",
       "      <td>0.01</td>\n",
       "      <td>0.01</td>\n",
       "      <td>0.01</td>\n",
       "      <td>0.04</td>\n",
       "      <td>0.04</td>\n",
       "      <td>0.02</td>\n",
       "      <td>0.05</td>\n",
       "      <td>0.07</td>\n",
       "      <td>0.06</td>\n",
       "      <td>0.02</td>\n",
       "      <td>0.02</td>\n",
       "      <td>0.02</td>\n",
       "      <td>0.03</td>\n",
       "    </tr>\n",
       "    <tr>\n",
       "      <th>services</th>\n",
       "      <td>0.10</td>\n",
       "      <td>0.05</td>\n",
       "      <td>0.08</td>\n",
       "      <td>0.29</td>\n",
       "      <td>0.30</td>\n",
       "      <td>0.25</td>\n",
       "      <td>0.04</td>\n",
       "      <td>0.04</td>\n",
       "      <td>0.05</td>\n",
       "      <td>0.01</td>\n",
       "      <td>0.01</td>\n",
       "      <td>0.02</td>\n",
       "      <td>0.09</td>\n",
       "      <td>0.09</td>\n",
       "      <td>0.09</td>\n",
       "      <td>0.10</td>\n",
       "    </tr>\n",
       "    <tr>\n",
       "      <th>student</th>\n",
       "      <td>0.00</td>\n",
       "      <td>0.00</td>\n",
       "      <td>0.06</td>\n",
       "      <td>0.00</td>\n",
       "      <td>0.00</td>\n",
       "      <td>0.11</td>\n",
       "      <td>0.00</td>\n",
       "      <td>0.00</td>\n",
       "      <td>0.03</td>\n",
       "      <td>0.00</td>\n",
       "      <td>0.00</td>\n",
       "      <td>0.03</td>\n",
       "      <td>0.02</td>\n",
       "      <td>0.00</td>\n",
       "      <td>0.35</td>\n",
       "      <td>0.02</td>\n",
       "    </tr>\n",
       "    <tr>\n",
       "      <th>technician</th>\n",
       "      <td>0.05</td>\n",
       "      <td>0.04</td>\n",
       "      <td>0.05</td>\n",
       "      <td>0.10</td>\n",
       "      <td>0.09</td>\n",
       "      <td>0.09</td>\n",
       "      <td>0.63</td>\n",
       "      <td>0.60</td>\n",
       "      <td>0.72</td>\n",
       "      <td>0.11</td>\n",
       "      <td>0.13</td>\n",
       "      <td>0.19</td>\n",
       "      <td>0.18</td>\n",
       "      <td>0.13</td>\n",
       "      <td>0.12</td>\n",
       "      <td>0.17</td>\n",
       "    </tr>\n",
       "    <tr>\n",
       "      <th>unemployed</th>\n",
       "      <td>0.03</td>\n",
       "      <td>0.03</td>\n",
       "      <td>0.03</td>\n",
       "      <td>0.03</td>\n",
       "      <td>0.03</td>\n",
       "      <td>0.02</td>\n",
       "      <td>0.03</td>\n",
       "      <td>0.03</td>\n",
       "      <td>0.01</td>\n",
       "      <td>0.02</td>\n",
       "      <td>0.02</td>\n",
       "      <td>0.02</td>\n",
       "      <td>0.01</td>\n",
       "      <td>0.01</td>\n",
       "      <td>0.01</td>\n",
       "      <td>0.02</td>\n",
       "    </tr>\n",
       "  </tbody>\n",
       "</table>\n",
       "</div>"
      ],
      "text/plain": [
       "education        basic                high.school                 \\\n",
       "marital       divorced married single    divorced married single   \n",
       "job                                                                \n",
       "admin.            0.08    0.05   0.09        0.37    0.33   0.37   \n",
       "blue-collar       0.45    0.61   0.60        0.06    0.09   0.11   \n",
       "entrepreneur      0.02    0.04   0.02        0.04    0.03   0.01   \n",
       "housemaid         0.08    0.06   0.02        0.02    0.02   0.01   \n",
       "management        0.02    0.03   0.02        0.03    0.04   0.01   \n",
       "retired           0.14    0.07   0.01        0.04    0.04   0.01   \n",
       "self-employed     0.02    0.03   0.02        0.01    0.01   0.01   \n",
       "services          0.10    0.05   0.08        0.29    0.30   0.25   \n",
       "student           0.00    0.00   0.06        0.00    0.00   0.11   \n",
       "technician        0.05    0.04   0.05        0.10    0.09   0.09   \n",
       "unemployed        0.03    0.03   0.03        0.03    0.03   0.02   \n",
       "\n",
       "education     professional.course                university.degree          \\\n",
       "marital                  divorced married single          divorced married   \n",
       "job                                                                          \n",
       "admin.                       0.07    0.07   0.07              0.50    0.43   \n",
       "blue-collar                  0.05    0.11   0.06              0.00    0.00   \n",
       "entrepreneur                 0.02    0.03   0.01              0.06    0.06   \n",
       "housemaid                    0.02    0.01   0.01              0.01    0.01   \n",
       "management                   0.02    0.02   0.01              0.18    0.22   \n",
       "retired                      0.08    0.06   0.01              0.04    0.03   \n",
       "self-employed                0.04    0.04   0.02              0.05    0.07   \n",
       "services                     0.04    0.04   0.05              0.01    0.01   \n",
       "student                      0.00    0.00   0.03              0.00    0.00   \n",
       "technician                   0.63    0.60   0.72              0.11    0.13   \n",
       "unemployed                   0.03    0.03   0.01              0.02    0.02   \n",
       "\n",
       "education             unknown                  All  \n",
       "marital       single divorced married single        \n",
       "job                                                 \n",
       "admin.          0.53     0.14    0.16   0.16  0.26  \n",
       "blue-collar     0.01     0.32    0.32   0.18  0.23  \n",
       "entrepreneur    0.03     0.05    0.04   0.01  0.04  \n",
       "housemaid       0.01     0.05    0.03   0.01  0.03  \n",
       "management      0.09     0.07    0.10   0.03  0.07  \n",
       "retired         0.01     0.05    0.09   0.01  0.04  \n",
       "self-employed   0.06     0.02    0.02   0.02  0.03  \n",
       "services        0.02     0.09    0.09   0.09  0.10  \n",
       "student         0.03     0.02    0.00   0.35  0.02  \n",
       "technician      0.19     0.18    0.13   0.12  0.17  \n",
       "unemployed      0.02     0.01    0.01   0.01  0.02  "
      ]
     },
     "execution_count": 39,
     "metadata": {},
     "output_type": "execute_result"
    }
   ],
   "source": [
    "pd.crosstab(df['job'],[df['education'],df['marital']], margins = True, normalize = 'columns').apply(lambda x: round(x,2))"
   ]
  },
  {
   "cell_type": "markdown",
   "id": "Zk_j2oWGqzPn",
   "metadata": {
    "id": "Zk_j2oWGqzPn"
   },
   "source": [
    "### P('y'|'emp.var.rate', 'job')"
   ]
  },
  {
   "cell_type": "code",
   "execution_count": 40,
   "id": "OXhz6zmBqprE",
   "metadata": {
    "id": "OXhz6zmBqprE"
   },
   "outputs": [
    {
     "data": {
      "text/html": [
       "<div>\n",
       "<style scoped>\n",
       "    .dataframe tbody tr th:only-of-type {\n",
       "        vertical-align: middle;\n",
       "    }\n",
       "\n",
       "    .dataframe tbody tr th {\n",
       "        vertical-align: top;\n",
       "    }\n",
       "\n",
       "    .dataframe thead th {\n",
       "        text-align: right;\n",
       "    }\n",
       "</style>\n",
       "<table border=\"1\" class=\"dataframe\">\n",
       "  <thead>\n",
       "    <tr style=\"text-align: right;\">\n",
       "      <th></th>\n",
       "      <th>y</th>\n",
       "      <th>no</th>\n",
       "      <th>yes</th>\n",
       "    </tr>\n",
       "    <tr>\n",
       "      <th>emp.var.rate</th>\n",
       "      <th>job</th>\n",
       "      <th></th>\n",
       "      <th></th>\n",
       "    </tr>\n",
       "  </thead>\n",
       "  <tbody>\n",
       "    <tr>\n",
       "      <th rowspan=\"11\" valign=\"top\">-2~0</th>\n",
       "      <th>admin.</th>\n",
       "      <td>0.80</td>\n",
       "      <td>0.20</td>\n",
       "    </tr>\n",
       "    <tr>\n",
       "      <th>blue-collar</th>\n",
       "      <td>0.90</td>\n",
       "      <td>0.10</td>\n",
       "    </tr>\n",
       "    <tr>\n",
       "      <th>entrepreneur</th>\n",
       "      <td>0.90</td>\n",
       "      <td>0.10</td>\n",
       "    </tr>\n",
       "    <tr>\n",
       "      <th>housemaid</th>\n",
       "      <td>0.76</td>\n",
       "      <td>0.24</td>\n",
       "    </tr>\n",
       "    <tr>\n",
       "      <th>management</th>\n",
       "      <td>0.86</td>\n",
       "      <td>0.14</td>\n",
       "    </tr>\n",
       "    <tr>\n",
       "      <th>retired</th>\n",
       "      <td>0.62</td>\n",
       "      <td>0.38</td>\n",
       "    </tr>\n",
       "    <tr>\n",
       "      <th>self-employed</th>\n",
       "      <td>0.85</td>\n",
       "      <td>0.15</td>\n",
       "    </tr>\n",
       "    <tr>\n",
       "      <th>services</th>\n",
       "      <td>0.89</td>\n",
       "      <td>0.11</td>\n",
       "    </tr>\n",
       "    <tr>\n",
       "      <th>student</th>\n",
       "      <td>0.64</td>\n",
       "      <td>0.36</td>\n",
       "    </tr>\n",
       "    <tr>\n",
       "      <th>technician</th>\n",
       "      <td>0.82</td>\n",
       "      <td>0.18</td>\n",
       "    </tr>\n",
       "    <tr>\n",
       "      <th>unemployed</th>\n",
       "      <td>0.78</td>\n",
       "      <td>0.22</td>\n",
       "    </tr>\n",
       "    <tr>\n",
       "      <th rowspan=\"11\" valign=\"top\">&lt;-2</th>\n",
       "      <th>admin.</th>\n",
       "      <td>0.60</td>\n",
       "      <td>0.40</td>\n",
       "    </tr>\n",
       "    <tr>\n",
       "      <th>blue-collar</th>\n",
       "      <td>0.66</td>\n",
       "      <td>0.34</td>\n",
       "    </tr>\n",
       "    <tr>\n",
       "      <th>entrepreneur</th>\n",
       "      <td>0.66</td>\n",
       "      <td>0.34</td>\n",
       "    </tr>\n",
       "    <tr>\n",
       "      <th>housemaid</th>\n",
       "      <td>0.60</td>\n",
       "      <td>0.40</td>\n",
       "    </tr>\n",
       "    <tr>\n",
       "      <th>management</th>\n",
       "      <td>0.62</td>\n",
       "      <td>0.38</td>\n",
       "    </tr>\n",
       "    <tr>\n",
       "      <th>retired</th>\n",
       "      <td>0.59</td>\n",
       "      <td>0.41</td>\n",
       "    </tr>\n",
       "    <tr>\n",
       "      <th>self-employed</th>\n",
       "      <td>0.69</td>\n",
       "      <td>0.31</td>\n",
       "    </tr>\n",
       "    <tr>\n",
       "      <th>services</th>\n",
       "      <td>0.61</td>\n",
       "      <td>0.39</td>\n",
       "    </tr>\n",
       "    <tr>\n",
       "      <th>student</th>\n",
       "      <td>0.58</td>\n",
       "      <td>0.42</td>\n",
       "    </tr>\n",
       "    <tr>\n",
       "      <th>technician</th>\n",
       "      <td>0.60</td>\n",
       "      <td>0.40</td>\n",
       "    </tr>\n",
       "    <tr>\n",
       "      <th>unemployed</th>\n",
       "      <td>0.63</td>\n",
       "      <td>0.37</td>\n",
       "    </tr>\n",
       "    <tr>\n",
       "      <th rowspan=\"11\" valign=\"top\">&gt;0</th>\n",
       "      <th>admin.</th>\n",
       "      <td>0.95</td>\n",
       "      <td>0.05</td>\n",
       "    </tr>\n",
       "    <tr>\n",
       "      <th>blue-collar</th>\n",
       "      <td>0.95</td>\n",
       "      <td>0.05</td>\n",
       "    </tr>\n",
       "    <tr>\n",
       "      <th>entrepreneur</th>\n",
       "      <td>0.95</td>\n",
       "      <td>0.05</td>\n",
       "    </tr>\n",
       "    <tr>\n",
       "      <th>housemaid</th>\n",
       "      <td>0.97</td>\n",
       "      <td>0.03</td>\n",
       "    </tr>\n",
       "    <tr>\n",
       "      <th>management</th>\n",
       "      <td>0.95</td>\n",
       "      <td>0.05</td>\n",
       "    </tr>\n",
       "    <tr>\n",
       "      <th>retired</th>\n",
       "      <td>0.94</td>\n",
       "      <td>0.06</td>\n",
       "    </tr>\n",
       "    <tr>\n",
       "      <th>self-employed</th>\n",
       "      <td>0.95</td>\n",
       "      <td>0.05</td>\n",
       "    </tr>\n",
       "    <tr>\n",
       "      <th>services</th>\n",
       "      <td>0.95</td>\n",
       "      <td>0.05</td>\n",
       "    </tr>\n",
       "    <tr>\n",
       "      <th>student</th>\n",
       "      <td>0.94</td>\n",
       "      <td>0.06</td>\n",
       "    </tr>\n",
       "    <tr>\n",
       "      <th>technician</th>\n",
       "      <td>0.96</td>\n",
       "      <td>0.04</td>\n",
       "    </tr>\n",
       "    <tr>\n",
       "      <th>unemployed</th>\n",
       "      <td>0.96</td>\n",
       "      <td>0.04</td>\n",
       "    </tr>\n",
       "    <tr>\n",
       "      <th>All</th>\n",
       "      <th></th>\n",
       "      <td>0.89</td>\n",
       "      <td>0.11</td>\n",
       "    </tr>\n",
       "  </tbody>\n",
       "</table>\n",
       "</div>"
      ],
      "text/plain": [
       "y                             no   yes\n",
       "emp.var.rate job                      \n",
       "-2~0         admin.         0.80  0.20\n",
       "             blue-collar    0.90  0.10\n",
       "             entrepreneur   0.90  0.10\n",
       "             housemaid      0.76  0.24\n",
       "             management     0.86  0.14\n",
       "             retired        0.62  0.38\n",
       "             self-employed  0.85  0.15\n",
       "             services       0.89  0.11\n",
       "             student        0.64  0.36\n",
       "             technician     0.82  0.18\n",
       "             unemployed     0.78  0.22\n",
       "<-2          admin.         0.60  0.40\n",
       "             blue-collar    0.66  0.34\n",
       "             entrepreneur   0.66  0.34\n",
       "             housemaid      0.60  0.40\n",
       "             management     0.62  0.38\n",
       "             retired        0.59  0.41\n",
       "             self-employed  0.69  0.31\n",
       "             services       0.61  0.39\n",
       "             student        0.58  0.42\n",
       "             technician     0.60  0.40\n",
       "             unemployed     0.63  0.37\n",
       ">0           admin.         0.95  0.05\n",
       "             blue-collar    0.95  0.05\n",
       "             entrepreneur   0.95  0.05\n",
       "             housemaid      0.97  0.03\n",
       "             management     0.95  0.05\n",
       "             retired        0.94  0.06\n",
       "             self-employed  0.95  0.05\n",
       "             services       0.95  0.05\n",
       "             student        0.94  0.06\n",
       "             technician     0.96  0.04\n",
       "             unemployed     0.96  0.04\n",
       "All                         0.89  0.11"
      ]
     },
     "execution_count": 40,
     "metadata": {},
     "output_type": "execute_result"
    }
   ],
   "source": [
    "pd.crosstab(df['y'], [df['emp.var.rate'],df['job']], margins = True, normalize = 'columns').apply(lambda x: round(x,2)).T"
   ]
  },
  {
   "cell_type": "markdown",
   "id": "RcyFAxfKvySW",
   "metadata": {
    "id": "RcyFAxfKvySW"
   },
   "source": [
    "## Define the network"
   ]
  },
  {
   "cell_type": "code",
   "execution_count": 41,
   "id": "tV1oSMC8vxxC",
   "metadata": {
    "executionInfo": {
     "elapsed": 1,
     "status": "ok",
     "timestamp": 1671006626442,
     "user": {
      "displayName": "May Zhang",
      "userId": "17374700244562573141"
     },
     "user_tz": -480
    },
    "id": "tV1oSMC8vxxC"
   },
   "outputs": [],
   "source": [
    "# model with list of edges\n",
    "model = BayesianNetwork([ ('price_idx', 'emp_rate'), ('age', 'edu'),\n",
    "                         ('age', 'marital'), ('age', 'job'),('marital', 'job'), \n",
    "                         ('edu', 'job'), ('job', 'y'), ('emp_rate', 'y')])"
   ]
  },
  {
   "cell_type": "code",
   "execution_count": 42,
   "id": "8qeHZlJZvwZG",
   "metadata": {
    "colab": {
     "base_uri": "https://localhost:8080/"
    },
    "executionInfo": {
     "elapsed": 3,
     "status": "ok",
     "timestamp": 1671006640674,
     "user": {
      "displayName": "May Zhang",
      "userId": "17374700244562573141"
     },
     "user_tz": -480
    },
    "id": "8qeHZlJZvwZG",
    "outputId": "0800866e-a1c0-43ea-f6b4-553cca208cea"
   },
   "outputs": [
    {
     "data": {
      "text/plain": [
       "['y']"
      ]
     },
     "execution_count": 42,
     "metadata": {},
     "output_type": "execute_result"
    }
   ],
   "source": [
    "# check the leave node\n",
    "model.get_leaves()"
   ]
  },
  {
   "cell_type": "code",
   "execution_count": 43,
   "id": "GOkUdd0Vvwb3",
   "metadata": {
    "colab": {
     "base_uri": "https://localhost:8080/"
    },
    "executionInfo": {
     "elapsed": 613,
     "status": "ok",
     "timestamp": 1671006664211,
     "user": {
      "displayName": "May Zhang",
      "userId": "17374700244562573141"
     },
     "user_tz": -480
    },
    "id": "GOkUdd0Vvwb3",
    "outputId": "721669b4-56e9-4260-d37f-0f144b2b480b"
   },
   "outputs": [
    {
     "data": {
      "text/plain": [
       "['edu', 'marital', 'job']"
      ]
     },
     "execution_count": 43,
     "metadata": {},
     "output_type": "execute_result"
    }
   ],
   "source": [
    "# children nodes of 'age'\n",
    "model.get_children('age')"
   ]
  },
  {
   "cell_type": "markdown",
   "id": "fX5Xy4Dxunpw",
   "metadata": {
    "id": "fX5Xy4Dxunpw"
   },
   "source": [
    "## Build Conditional Probability Cards (CPDs)"
   ]
  },
  {
   "cell_type": "markdown",
   "id": "tE8kYew8u_ka",
   "metadata": {
    "id": "tE8kYew8u_ka"
   },
   "source": [
    "### CPD of price_idx"
   ]
  },
  {
   "cell_type": "code",
   "execution_count": 44,
   "id": "5rWpUuklrM3N",
   "metadata": {
    "executionInfo": {
     "elapsed": 6,
     "status": "ok",
     "timestamp": 1671004365634,
     "user": {
      "displayName": "May Zhang",
      "userId": "17374700244562573141"
     },
     "user_tz": -480
    },
    "id": "5rWpUuklrM3N"
   },
   "outputs": [],
   "source": [
    "cpd_price_idx = TabularCPD(\n",
    "    variable = 'price_idx',\n",
    "    variable_card=3,\n",
    "    values=[[0.64],[0.22],[0.14]],\n",
    "    state_names={\n",
    "        'price_idx':['93~94', '<93', '>94']\n",
    "    }\n",
    ")"
   ]
  },
  {
   "cell_type": "markdown",
   "id": "Wp4OMqWSwGQX",
   "metadata": {
    "id": "Wp4OMqWSwGQX"
   },
   "source": [
    "### CPD of emp_rate"
   ]
  },
  {
   "cell_type": "code",
   "execution_count": 45,
   "id": "dmZoJ52kwDzr",
   "metadata": {
    "executionInfo": {
     "elapsed": 328,
     "status": "ok",
     "timestamp": 1671005546485,
     "user": {
      "displayName": "May Zhang",
      "userId": "17374700244562573141"
     },
     "user_tz": -480
    },
    "id": "dmZoJ52kwDzr"
   },
   "outputs": [],
   "source": [
    "cpd_emp_rate = TabularCPD(\n",
    "    variable = 'emp_rate',\n",
    "    variable_card=3,\n",
    "    evidence = ['price_idx'],\n",
    "    evidence_card=[3],\n",
    "    values=[ \n",
    "       [0.25835564, 0.67909275, 0.2440049 ],\n",
    "       [0.        , 0.32090725, 0.        ],\n",
    "       [0.74164436, 0.        , 0.7559951 ]\n",
    "           \n",
    "    ], \n",
    "    state_names={ \n",
    "        'emp_rate': ['-2~0', '<-2', '>0'],\n",
    "        'price_idx':['93~94', '<93', '>94']\n",
    "    }\n",
    ")"
   ]
  },
  {
   "cell_type": "markdown",
   "id": "P_DKf0gexuQ5",
   "metadata": {
    "id": "P_DKf0gexuQ5"
   },
   "source": [
    "### CPD of age"
   ]
  },
  {
   "cell_type": "code",
   "execution_count": 46,
   "id": "Kcjc6W7QxsLL",
   "metadata": {
    "executionInfo": {
     "elapsed": 5,
     "status": "ok",
     "timestamp": 1671004365634,
     "user": {
      "displayName": "May Zhang",
      "userId": "17374700244562573141"
     },
     "user_tz": -480
    },
    "id": "Kcjc6W7QxsLL"
   },
   "outputs": [],
   "source": [
    "cpd_age = TabularCPD(\n",
    "    variable = 'age',\n",
    "    variable_card=3,\n",
    "    values=[\n",
    "        [0.17996517],\n",
    "       [0.64723197],\n",
    "       [0.17280286]],\n",
    "    state_names={\n",
    "        'age': ['0.<30', '1.30~50', '2.>50']\n",
    "    }\n",
    ")"
   ]
  },
  {
   "cell_type": "markdown",
   "id": "p1pPKImoyag7",
   "metadata": {
    "id": "p1pPKImoyag7"
   },
   "source": [
    "### CPD of education"
   ]
  },
  {
   "cell_type": "code",
   "execution_count": 47,
   "id": "ArJuTGYNyfTK",
   "metadata": {
    "executionInfo": {
     "elapsed": 421,
     "status": "ok",
     "timestamp": 1671004804022,
     "user": {
      "displayName": "May Zhang",
      "userId": "17374700244562573141"
     },
     "user_tz": -480
    },
    "id": "ArJuTGYNyfTK"
   },
   "outputs": [],
   "source": [
    "cpd_edu = TabularCPD(\n",
    "    variable = 'edu',\n",
    "    variable_card=5,\n",
    "    evidence=['age'],\n",
    "    evidence_card=[3],\n",
    "    values=[ \n",
    "       [0.23320158, 0.3015879 , 0.38594748],\n",
    "       [0.31007224, 0.22776367, 0.16735273],\n",
    "       [0.1087638 , 0.13468754, 0.12391767],\n",
    "       [0.30898187, 0.30291431, 0.26061036],\n",
    "       [0.03898051, 0.03304658, 0.06217175]      \n",
    "    ],\n",
    "    state_names={\n",
    "        'edu': ['basic', 'high.school', 'professional.course', 'university.degree','unknown'],\n",
    "        'age': ['0.<30', '1.30~50', '2.>50']\n",
    "    }\n",
    ")"
   ]
  },
  {
   "cell_type": "markdown",
   "id": "46b91353",
   "metadata": {},
   "source": [
    "### CPD of marital"
   ]
  },
  {
   "cell_type": "code",
   "execution_count": 48,
   "id": "d52b2f36",
   "metadata": {
    "executionInfo": {
     "elapsed": 421,
     "status": "ok",
     "timestamp": 1671004804022,
     "user": {
      "displayName": "May Zhang",
      "userId": "17374700244562573141"
     },
     "user_tz": -480
    },
    "id": "ArJuTGYNyfTK"
   },
   "outputs": [],
   "source": [
    "cpd_marital = TabularCPD(\n",
    "    variable = 'marital',\n",
    "    variable_card=3,\n",
    "    evidence=['age'],\n",
    "    evidence_card=[3],\n",
    "    values=[ \n",
    "       [0.03107537, 0.11535984, 0.18807665],\n",
    "       [0.32479215, 0.64232387, 0.758978  ],\n",
    "       [0.64413248, 0.24231629, 0.05294535]       \n",
    "    ],\n",
    "    state_names={\n",
    "        'marital': ['divorced', 'married', 'single'],\n",
    "        'age': ['0.<30', '1.30~50', '2.>50']\n",
    "    }\n",
    ")"
   ]
  },
  {
   "cell_type": "markdown",
   "id": "Ms5VZLrX1FWo",
   "metadata": {
    "id": "Ms5VZLrX1FWo"
   },
   "source": [
    "### CPD of job"
   ]
  },
  {
   "cell_type": "code",
   "execution_count": 49,
   "id": "uKC8RBpyyg4_",
   "metadata": {
    "executionInfo": {
     "elapsed": 271,
     "status": "ok",
     "timestamp": 1671005152693,
     "user": {
      "displayName": "May Zhang",
      "userId": "17374700244562573141"
     },
     "user_tz": -480
    },
    "id": "uKC8RBpyyg4_",
    "scrolled": false
   },
   "outputs": [],
   "source": [
    "cpd_job = TabularCPD(\n",
    "    variable = 'job',\n",
    "    variable_card=11,\n",
    "    evidence=['edu', 'marital','age'],\n",
    "    evidence_card=[5,3,3],\n",
    "    values=[\n",
    "        [0.13461538, 0.08224543, 0.0626506 , 0.042362  , 0.04868852,\n",
    "        0.05553027, 0.07386364, 0.09157509, 0.13084112, 0.30337079,\n",
    "        0.40423032, 0.27309237, 0.38073394, 0.34135546, 0.272203  ,\n",
    "        0.32049608, 0.42487047, 0.36507937, 0.15384615, 0.06302521,\n",
    "        0.09677419, 0.0648855 , 0.06759802, 0.06006006, 0.09215686,\n",
    "        0.06519208, 0.05769231, 0.52830189, 0.55386417, 0.3962704 ,\n",
    "        0.48963317, 0.45544111, 0.30132709, 0.52110901, 0.54208754,\n",
    "        0.53174603, 0.125     , 0.03092784, 0.27272727, 0.32786885,\n",
    "        0.15118397, 0.13095238, 0.09677419, 0.2079646 , 0.36      ],\n",
    "       [0.46153846, 0.54308094, 0.29156627, 0.75353017, 0.67016393,\n",
    "        0.39827037, 0.59886364, 0.62728938, 0.3271028 , 0.14606742,\n",
    "        0.05757932, 0.03614458, 0.09785933, 0.09488243, 0.05767013,\n",
    "        0.0926893 , 0.13212435, 0.01587302, 0.        , 0.06722689,\n",
    "        0.01935484, 0.1221374 , 0.11762055, 0.06306306, 0.05294118,\n",
    "        0.06519208, 0.        , 0.        , 0.00234192, 0.        ,\n",
    "        0.00797448, 0.00492611, 0.00312256, 0.01071204, 0.01646091,\n",
    "        0.        , 0.5       , 0.36082474, 0.25974026, 0.27868852,\n",
    "        0.42622951, 0.16666667, 0.13824885, 0.2079646 , 0.36      ],\n",
    "       [0.07692308, 0.02741514, 0.00963855, 0.03594352, 0.04180328,\n",
    "        0.03186163, 0.00568182, 0.02289377, 0.05607477, 0.01123596,\n",
    "        0.03642773, 0.04417671, 0.01987768, 0.03651452, 0.01730104,\n",
    "        0.01044386, 0.00906736, 0.        , 0.        , 0.02521008,\n",
    "        0.01935484, 0.05343511, 0.03064443, 0.02702703, 0.00588235,\n",
    "        0.01979045, 0.        , 0.03773585, 0.05386417, 0.07925408,\n",
    "        0.03668262, 0.06739812, 0.07025761, 0.01764335, 0.02880658,\n",
    "        0.05555556, 0.        , 0.05154639, 0.06493506, 0.01639344,\n",
    "        0.04918033, 0.04166667, 0.        , 0.01327434, 0.08      ],\n",
    "       [0.        , 0.07049608, 0.1060241 , 0.01797176, 0.05016393,\n",
    "        0.08784706, 0.00454545, 0.02197802, 0.04672897, 0.        ,\n",
    "        0.02115159, 0.03614458, 0.02599388, 0.02130014, 0.02652826,\n",
    "        0.00718016, 0.0123057 , 0.        , 0.        , 0.01260504,\n",
    "        0.03225806, 0.00381679, 0.00901307, 0.01951952, 0.        ,\n",
    "        0.0104773 , 0.09615385, 0.        , 0.0117096 , 0.01398601,\n",
    "        0.01116427, 0.01298701, 0.0156128 , 0.00252048, 0.01122334,\n",
    "        0.01587302, 0.        , 0.01030928, 0.1038961 , 0.        ,\n",
    "        0.01821494, 0.05059524, 0.00460829, 0.02212389, 0.        ],\n",
    "       [0.05769231, 0.02349869, 0.00963855, 0.01283697, 0.02885246,\n",
    "        0.04369595, 0.01363636, 0.02197802, 0.07476636, 0.02247191,\n",
    "        0.02820212, 0.04016064, 0.00917431, 0.04923928, 0.03690888,\n",
    "        0.00652742, 0.02266839, 0.        , 0.        , 0.01260504,\n",
    "        0.0516129 , 0.        , 0.01847679, 0.03153153, 0.00196078,\n",
    "        0.0104773 , 0.05769231, 0.01886792, 0.16861827, 0.23076923,\n",
    "        0.12759171, 0.22503359, 0.27010148, 0.0863264 , 0.09165731,\n",
    "        0.03174603, 0.        , 0.10309278, 0.02597403, 0.01639344,\n",
    "        0.11657559, 0.09821429, 0.01382488, 0.03982301, 0.04      ],\n",
    "       [0.        , 0.01305483, 0.40481928, 0.        , 0.00819672,\n",
    "        0.25216204, 0.00340909, 0.01373626, 0.12149533, 0.        ,\n",
    "        0.00117509, 0.20080321, 0.        , 0.0033195 , 0.22145329,\n",
    "        0.00065274, 0.00259067, 0.25396825, 0.        , 0.00840336,\n",
    "        0.30322581, 0.        , 0.00315457, 0.25525526, 0.00196078,\n",
    "        0.        , 0.23076923, 0.        , 0.00234192, 0.12820513,\n",
    "        0.        , 0.00067174, 0.15612802, 0.        , 0.00112233,\n",
    "        0.16666667, 0.        , 0.        , 0.11688312, 0.        ,\n",
    "        0.00728597, 0.24107143, 0.        , 0.        , 0.16      ],\n",
    "       [0.        , 0.02872063, 0.00963855, 0.01797176, 0.03377049,\n",
    "        0.02503414, 0.00681818, 0.02106227, 0.05607477, 0.        ,\n",
    "        0.01057579, 0.01204819, 0.00917431, 0.01604426, 0.00922722,\n",
    "        0.00522193, 0.01489637, 0.04761905, 0.        , 0.03991597,\n",
    "        0.02580645, 0.07633588, 0.03109509, 0.03303303, 0.01960784,\n",
    "        0.02444703, 0.01923077, 0.11320755, 0.05854801, 0.02797203,\n",
    "        0.08931419, 0.0575459 , 0.08821233, 0.08128544, 0.04938272,\n",
    "        0.07142857, 0.        , 0.03092784, 0.01298701, 0.01639344,\n",
    "        0.01821494, 0.01785714, 0.01843318, 0.01769912, 0.        ],\n",
    "       [0.23076923, 0.11227154, 0.05060241, 0.05776637, 0.0547541 ,\n",
    "        0.03413746, 0.06931818, 0.09615385, 0.06542056, 0.38202247,\n",
    "        0.29259694, 0.26506024, 0.34556575, 0.31147994, 0.23298731,\n",
    "        0.25391645, 0.23834197, 0.28571429, 0.03846154, 0.04621849,\n",
    "        0.02580645, 0.07251908, 0.04326273, 0.01501502, 0.06470588,\n",
    "        0.03725262, 0.        , 0.        , 0.01522248, 0.01631702,\n",
    "        0.02392344, 0.01074787, 0.0078064 , 0.02772527, 0.01346801,\n",
    "        0.        , 0.        , 0.13402062, 0.05194805, 0.24590164,\n",
    "        0.08743169, 0.07440476, 0.09677419, 0.10176991, 0.        ],\n",
    "       [0.        , 0.00130548, 0.        , 0.        , 0.00032787,\n",
    "        0.        , 0.14431818, 0.00641026, 0.        , 0.        ,\n",
    "        0.        , 0.        , 0.00611621, 0.00276625, 0.        ,\n",
    "        0.21475196, 0.00906736, 0.        , 0.        , 0.00210084,\n",
    "        0.        , 0.        , 0.00270392, 0.        , 0.06666667,\n",
    "        0.00232829, 0.        , 0.        , 0.00468384, 0.        ,\n",
    "        0.02392344, 0.00044783, 0.        , 0.06616257, 0.01646091,\n",
    "        0.        , 0.125     , 0.02061856, 0.        , 0.        ,\n",
    "        0.00364299, 0.        , 0.55299539, 0.18584071, 0.        ],\n",
    "       [0.03846154, 0.05483029, 0.03614458, 0.0436457 , 0.03721311,\n",
    "        0.04642695, 0.05909091, 0.04487179, 0.04672897, 0.08988764,\n",
    "        0.11633373, 0.05220884, 0.05963303, 0.09598893, 0.09803922,\n",
    "        0.06657963, 0.11334197, 0.03174603, 0.80769231, 0.69117647,\n",
    "        0.4       , 0.57251908, 0.6408292 , 0.47447447, 0.68235294,\n",
    "        0.74738068, 0.53846154, 0.26415094, 0.11358314, 0.09090909,\n",
    "        0.16427432, 0.14151366, 0.07259953, 0.16446125, 0.20538721,\n",
    "        0.12698413, 0.25      , 0.24742268, 0.09090909, 0.08196721,\n",
    "        0.10928962, 0.16369048, 0.07373272, 0.18584071, 0.        ],\n",
    "       [0.        , 0.04308094, 0.01927711, 0.01797176, 0.02606557,\n",
    "        0.02503414, 0.02045455, 0.03205128, 0.07476636, 0.04494382,\n",
    "        0.03172738, 0.04016064, 0.04587156, 0.02710927, 0.02768166,\n",
    "        0.02154047, 0.02072539, 0.        , 0.        , 0.03151261,\n",
    "        0.02580645, 0.03435115, 0.03560162, 0.02102102, 0.01176471,\n",
    "        0.01746217, 0.        , 0.03773585, 0.01522248, 0.01631702,\n",
    "        0.02551834, 0.02328706, 0.01483216, 0.02205419, 0.02394314,\n",
    "        0.        , 0.        , 0.01030928, 0.        , 0.01639344,\n",
    "        0.01275046, 0.01488095, 0.00460829, 0.01769912, 0.        ]\n",
    "       ],\n",
    "    state_names={\n",
    "        'job': ['admin.', 'blue-collar', 'entrepreneur', 'housemaid', 'management',\n",
    "               'retired', 'self-employed', 'services', 'student', 'technician','unemployed'],\n",
    "        'edu': ['basic', 'high.school', 'professional.course', 'university.degree','unknown'],\n",
    "        'marital': ['divorced', 'married', 'single'],\n",
    "        'age': ['0.<30', '1.30~50', '2.>50']\n",
    "    }\n",
    "\n",
    ")\n"
   ]
  },
  {
   "cell_type": "markdown",
   "id": "5alY29aQrAqj",
   "metadata": {
    "id": "5alY29aQrAqj"
   },
   "source": [
    "### CPD of y"
   ]
  },
  {
   "cell_type": "code",
   "execution_count": 50,
   "id": "d9PeH7ijyg9f",
   "metadata": {
    "executionInfo": {
     "elapsed": 299,
     "status": "ok",
     "timestamp": 1671006271060,
     "user": {
      "displayName": "May Zhang",
      "userId": "17374700244562573141"
     },
     "user_tz": -480
    },
    "id": "d9PeH7ijyg9f"
   },
   "outputs": [],
   "source": [
    "cpd_y = TabularCPD(\n",
    "    variable = 'y',\n",
    "    variable_card=2,\n",
    "    evidence=['emp_rate','job'],\n",
    "    evidence_card=[3,11],\n",
    "    values=[\n",
    "        [0.80300083, 0.90314465, 0.89643463, 0.76339286, 0.86166667,\n",
    "        0.6179966 , 0.84554455, 0.8913649 , 0.64285714, 0.81559588,\n",
    "        0.78393352, 0.60107527, 0.65882353, 0.6557377 , 0.60493827,\n",
    "        0.61904762, 0.5920398 , 0.68867925, 0.60655738, 0.5840708 ,\n",
    "        0.59850374, 0.6328125 , 0.95406601, 0.95426726, 0.95006242,\n",
    "        0.97203728, 0.95033557, 0.94174757, 0.95386534, 0.95051975,\n",
    "        0.93604651, 0.95548823, 0.96346154],\n",
    "       [0.19699917, 0.09685535, 0.10356537, 0.23660714, 0.13833333,\n",
    "        0.3820034 , 0.15445545, 0.1086351 , 0.35714286, 0.18440412,\n",
    "        0.21606648, 0.39892473, 0.34117647, 0.3442623 , 0.39506173,\n",
    "        0.38095238, 0.4079602 , 0.31132075, 0.39344262, 0.4159292 ,\n",
    "        0.40149626, 0.3671875 , 0.04593399, 0.04573274, 0.04993758,\n",
    "        0.02796272, 0.04966443, 0.05825243, 0.04613466, 0.04948025,\n",
    "        0.06395349, 0.04451177, 0.03653846]\n",
    "        ],\n",
    "    state_names={\n",
    "        'y': ['no', 'yes' ],\n",
    "        'emp_rate': ['-2~0', '<-2', '>0'],\n",
    "        'job': ['admin.', 'blue-collar', 'entrepreneur', 'housemaid', 'management',\n",
    "               'retired', 'self-employed', 'services', 'student', 'technician','unemployed'],\n",
    "    }\n",
    ")"
   ]
  },
  {
   "cell_type": "code",
   "execution_count": null,
   "id": "WtbeajkayhBn",
   "metadata": {
    "executionInfo": {
     "elapsed": 4,
     "status": "ok",
     "timestamp": 1671004825741,
     "user": {
      "displayName": "May Zhang",
      "userId": "17374700244562573141"
     },
     "user_tz": -480
    },
    "id": "WtbeajkayhBn"
   },
   "outputs": [],
   "source": []
  },
  {
   "cell_type": "markdown",
   "id": "JA5T34BlvMQP",
   "metadata": {
    "id": "JA5T34BlvMQP"
   },
   "source": [
    "## Associate the CPDs to the network"
   ]
  },
  {
   "cell_type": "code",
   "execution_count": 51,
   "id": "b1_8CcfMvSYy",
   "metadata": {
    "executionInfo": {
     "elapsed": 340,
     "status": "ok",
     "timestamp": 1671006682372,
     "user": {
      "displayName": "May Zhang",
      "userId": "17374700244562573141"
     },
     "user_tz": -480
    },
    "id": "b1_8CcfMvSYy"
   },
   "outputs": [],
   "source": [
    "model.add_cpds(cpd_price_idx, cpd_emp_rate, cpd_age, cpd_edu, cpd_marital, cpd_job, cpd_y)"
   ]
  },
  {
   "cell_type": "markdown",
   "id": "Ae8qqbKQwruU",
   "metadata": {
    "id": "Ae8qqbKQwruU"
   },
   "source": [
    "### Plot the network"
   ]
  },
  {
   "cell_type": "code",
   "execution_count": 52,
   "id": "T5LrSswjvpJS",
   "metadata": {
    "colab": {
     "base_uri": "https://localhost:8080/",
     "height": 319
    },
    "executionInfo": {
     "elapsed": 745,
     "status": "ok",
     "timestamp": 1671007237815,
     "user": {
      "displayName": "May Zhang",
      "userId": "17374700244562573141"
     },
     "user_tz": -480
    },
    "id": "T5LrSswjvpJS",
    "outputId": "be6a64b3-fb80-485c-9f59-0890af10aa9c"
   },
   "outputs": [
    {
     "data": {
      "image/png": "[encoded data removed]",
      "text/plain": [
       "<Figure size 640x480 with 1 Axes>"
      ]
     },
     "metadata": {},
     "output_type": "display_data"
    }
   ],
   "source": [
    "pos = {'price_idx': (0, 0), 'emp_rate': (1, -2),\n",
    "       'y': (2, -4), 'job': (3, -3), 'edu': (3, -1),\n",
    "       'marital':(5.5,-1), 'age': (4.5,0)}\n",
    "options = {\n",
    "    \"with_labels\": True,\n",
    "    \"font_size\": 12,\n",
    "    \"node_size\": 4000,\n",
    "    \"node_color\": 'white',\n",
    "    \"node_shape\": 'o',\n",
    "    \"edgecolors\": \"red\",\n",
    "    \"linewidths\": 2,\n",
    "    \"width\": 2,\n",
    "    \"font_family\": 'monospace' # 'fantasy' 'monospace'\n",
    "}\n",
    "\n",
    "nx.draw(model, pos, **options)\n",
    "\n",
    "# Set margins for the axes so that nodes aren't clipped\n",
    "ax = plt.gca()\n",
    "ax.margins(0.10)\n",
    "plt.axis(\"off\")\n",
    "plt.show()"
   ]
  },
  {
   "cell_type": "markdown",
   "id": "-c1gK_x7xjkr",
   "metadata": {
    "id": "-c1gK_x7xjkr"
   },
   "source": [
    "## Understanding the model"
   ]
  },
  {
   "cell_type": "code",
   "execution_count": 53,
   "id": "iBm-qa6gxVbj",
   "metadata": {
    "colab": {
     "base_uri": "https://localhost:8080/"
    },
    "executionInfo": {
     "elapsed": 270,
     "status": "ok",
     "timestamp": 1671007295223,
     "user": {
      "displayName": "May Zhang",
      "userId": "17374700244562573141"
     },
     "user_tz": -480
    },
    "id": "iBm-qa6gxVbj",
    "outputId": "ff944a21-ba6a-466c-b60a-bca82f2857b0"
   },
   "outputs": [
    {
     "data": {
      "text/plain": [
       "True"
      ]
     },
     "execution_count": 53,
     "metadata": {},
     "output_type": "execute_result"
    }
   ],
   "source": [
    "# check the network structure and CPDs, \n",
    "# verify if the CPDs are correctly defined and sum to 1.\n",
    "model.check_model()"
   ]
  },
  {
   "cell_type": "code",
   "execution_count": 54,
   "id": "MRh480P5y9Hy",
   "metadata": {
    "colab": {
     "base_uri": "https://localhost:8080/"
    },
    "executionInfo": {
     "elapsed": 2,
     "status": "ok",
     "timestamp": 1671007304212,
     "user": {
      "displayName": "May Zhang",
      "userId": "17374700244562573141"
     },
     "user_tz": -480
    },
    "id": "MRh480P5y9Hy",
    "outputId": "187d80ed-07c4-4965-d581-016a153e3733"
   },
   "outputs": [
    {
     "data": {
      "text/plain": [
       "[<TabularCPD representing P(price_idx:3) at 0x2465f9e3d00>,\n",
       " <TabularCPD representing P(emp_rate:3 | price_idx:3) at 0x2465fa007c0>,\n",
       " <TabularCPD representing P(age:3) at 0x2465f9f2c10>,\n",
       " <TabularCPD representing P(edu:5 | age:3) at 0x2465fa00550>,\n",
       " <TabularCPD representing P(marital:3 | age:3) at 0x2465fa002e0>,\n",
       " <TabularCPD representing P(job:11 | edu:5, marital:3, age:3) at 0x2465fa005e0>,\n",
       " <TabularCPD representing P(y:2 | emp_rate:3, job:11) at 0x2465fbd74c0>]"
      ]
     },
     "execution_count": 54,
     "metadata": {},
     "output_type": "execute_result"
    }
   ],
   "source": [
    "# list all cpds\n",
    "model.get_cpds()"
   ]
  },
  {
   "cell_type": "code",
   "execution_count": 55,
   "id": "SeCSMNR_y_cp",
   "metadata": {
    "colab": {
     "base_uri": "https://localhost:8080/"
    },
    "executionInfo": {
     "elapsed": 287,
     "status": "ok",
     "timestamp": 1671007330103,
     "user": {
      "displayName": "May Zhang",
      "userId": "17374700244562573141"
     },
     "user_tz": -480
    },
    "id": "SeCSMNR_y_cp",
    "outputId": "c4adb8ee-7b5b-4d0d-c71c-b5bd96a143de"
   },
   "outputs": [
    {
     "name": "stdout",
     "output_type": "stream",
     "text": [
      "+----------+----------------+------------------+-----+--------------+-----------------+-----------------+\n",
      "| emp_rate | emp_rate(-2~0) | emp_rate(-2~0)   | ... | emp_rate(>0) | emp_rate(>0)    | emp_rate(>0)    |\n",
      "+----------+----------------+------------------+-----+--------------+-----------------+-----------------+\n",
      "| job      | job(admin.)    | job(blue-collar) | ... | job(student) | job(technician) | job(unemployed) |\n",
      "+----------+----------------+------------------+-----+--------------+-----------------+-----------------+\n",
      "| y(no)    | 0.80300083     | 0.90314465       | ... | 0.93604651   | 0.95548823      | 0.96346154      |\n",
      "+----------+----------------+------------------+-----+--------------+-----------------+-----------------+\n",
      "| y(yes)   | 0.19699917     | 0.09685535       | ... | 0.06395349   | 0.04451177      | 0.03653846      |\n",
      "+----------+----------------+------------------+-----+--------------+-----------------+-----------------+\n"
     ]
    }
   ],
   "source": [
    "# check cpd of 'y'\n",
    "print(model.get_cpds('y'))"
   ]
  },
  {
   "cell_type": "code",
   "execution_count": 56,
   "id": "ctRIQHWhzJwp",
   "metadata": {
    "id": "ctRIQHWhzJwp"
   },
   "outputs": [
    {
     "data": {
      "text/plain": [
       "(price_idx ⟂ age, marital, edu, job)\n",
       "(price_idx ⟂ age, job, edu | marital)\n",
       "(price_idx ⟂ age, marital, job | edu)\n",
       "(price_idx ⟂ marital, edu, age, job, y | emp_rate)\n",
       "(price_idx ⟂ marital, job, edu | age)\n",
       "(price_idx ⟂ age, marital, edu | job)\n",
       "(price_idx ⟂ age, job | marital, edu)\n",
       "(price_idx ⟂ age, job, edu, y | marital, emp_rate)\n",
       "(price_idx ⟂ job, edu | age, marital)\n",
       "(price_idx ⟂ age, edu | marital, job)\n",
       "(price_idx ⟂ age, marital, job, y | edu, emp_rate)\n",
       "(price_idx ⟂ marital, job | age, edu)\n",
       "(price_idx ⟂ age, marital | edu, job)\n",
       "(price_idx ⟂ job, marital, edu, y | age, emp_rate)\n",
       "(price_idx ⟂ age, marital, edu, y | job, emp_rate)\n",
       "(price_idx ⟂ age, marital, edu, job | y, emp_rate)\n",
       "(price_idx ⟂ marital, edu | age, job)\n",
       "(price_idx ⟂ age, marital, edu | job, y)\n",
       "(price_idx ⟂ age, job, y | marital, edu, emp_rate)\n",
       "(price_idx ⟂ job | age, marital, edu)\n",
       "(price_idx ⟂ age | marital, edu, job)\n",
       "(price_idx ⟂ job, edu, y | age, marital, emp_rate)\n",
       "(price_idx ⟂ age, edu, y | marital, job, emp_rate)\n",
       "(price_idx ⟂ age, edu, job | y, marital, emp_rate)\n",
       "(price_idx ⟂ edu | age, marital, job)\n",
       "(price_idx ⟂ age, edu | marital, job, y)\n",
       "(price_idx ⟂ marital, job, y | age, edu, emp_rate)\n",
       "(price_idx ⟂ age, marital, y | job, edu, emp_rate)\n",
       "(price_idx ⟂ age, marital, job | y, edu, emp_rate)\n",
       "(price_idx ⟂ marital | age, edu, job)\n",
       "(price_idx ⟂ age, marital | y, edu, job)\n",
       "(price_idx ⟂ marital, edu, y | age, job, emp_rate)\n",
       "(price_idx ⟂ marital, edu, job | age, y, emp_rate)\n",
       "(price_idx ⟂ age, marital, edu | y, job, emp_rate)\n",
       "(price_idx ⟂ marital, edu | age, job, y)\n",
       "(price_idx ⟂ job, y | age, marital, edu, emp_rate)\n",
       "(price_idx ⟂ age, y | job, marital, edu, emp_rate)\n",
       "(price_idx ⟂ age, job | y, marital, edu, emp_rate)\n",
       "(price_idx ⟂ age | y, marital, edu, job)\n",
       "(price_idx ⟂ edu, y | age, marital, job, emp_rate)\n",
       "(price_idx ⟂ edu, job | y, age, marital, emp_rate)\n",
       "(price_idx ⟂ age, edu | y, marital, job, emp_rate)\n",
       "(price_idx ⟂ edu | age, marital, job, y)\n",
       "(price_idx ⟂ marital, y | age, job, edu, emp_rate)\n",
       "(price_idx ⟂ marital, job | age, y, edu, emp_rate)\n",
       "(price_idx ⟂ age, marital | job, y, edu, emp_rate)\n",
       "(price_idx ⟂ marital | age, y, edu, job)\n",
       "(price_idx ⟂ marital, edu | age, y, job, emp_rate)\n",
       "(price_idx ⟂ y | marital, job, edu, emp_rate, age)\n",
       "(price_idx ⟂ job | marital, y, edu, emp_rate, age)\n",
       "(price_idx ⟂ age | marital, job, y, edu, emp_rate)\n",
       "(price_idx ⟂ edu | marital, job, y, emp_rate, age)\n",
       "(price_idx ⟂ marital | job, y, edu, emp_rate, age)\n",
       "(marital ⟂ price_idx, emp_rate)\n",
       "(marital ⟂ emp_rate | price_idx)\n",
       "(marital ⟂ price_idx, emp_rate | edu)\n",
       "(marital ⟂ price_idx | emp_rate)\n",
       "(marital ⟂ price_idx, edu, emp_rate | age)\n",
       "(marital ⟂ price_idx, emp_rate, y | job)\n",
       "(marital ⟂ emp_rate | price_idx, edu)\n",
       "(marital ⟂ edu, emp_rate | price_idx, age)\n",
       "(marital ⟂ emp_rate, y | price_idx, job)\n",
       "(marital ⟂ price_idx | edu, emp_rate)\n",
       "(marital ⟂ price_idx, emp_rate | age, edu)\n",
       "(marital ⟂ price_idx, emp_rate, y | edu, job)\n",
       "(marital ⟂ price_idx, edu | age, emp_rate)\n",
       "(marital ⟂ price_idx, y | job, emp_rate)\n",
       "(marital ⟂ price_idx | y, emp_rate)\n",
       "(marital ⟂ price_idx, emp_rate, y | age, job)\n",
       "(marital ⟂ price_idx, emp_rate | job, y)\n",
       "(marital ⟂ emp_rate | price_idx, age, edu)\n",
       "(marital ⟂ emp_rate, y | price_idx, edu, job)\n",
       "(marital ⟂ edu | price_idx, age, emp_rate)\n",
       "(marital ⟂ y | price_idx, job, emp_rate)\n",
       "(marital ⟂ emp_rate, y | price_idx, age, job)\n",
       "(marital ⟂ emp_rate | price_idx, job, y)\n",
       "(marital ⟂ price_idx | age, edu, emp_rate)\n",
       "(marital ⟂ price_idx, y | job, edu, emp_rate)\n",
       "(marital ⟂ price_idx | y, edu, emp_rate)\n",
       "(marital ⟂ price_idx, emp_rate, y | age, edu, job)\n",
       "(marital ⟂ price_idx, emp_rate | y, edu, job)\n",
       "(marital ⟂ price_idx, y | age, job, emp_rate)\n",
       "(marital ⟂ price_idx | age, y, emp_rate)\n",
       "(marital ⟂ price_idx | y, job, emp_rate)\n",
       "(marital ⟂ price_idx, emp_rate | age, job, y)\n",
       "(marital ⟂ y | price_idx, job, edu, emp_rate)\n",
       "(marital ⟂ emp_rate, y | price_idx, age, edu, job)\n",
       "(marital ⟂ emp_rate | price_idx, y, edu, job)\n",
       "(marital ⟂ y | price_idx, age, job, emp_rate)\n",
       "(marital ⟂ emp_rate | price_idx, age, job, y)\n",
       "(marital ⟂ price_idx, y | age, job, edu, emp_rate)\n",
       "(marital ⟂ price_idx | age, y, edu, emp_rate)\n",
       "(marital ⟂ price_idx | job, y, edu, emp_rate)\n",
       "(marital ⟂ price_idx, emp_rate | age, y, edu, job)\n",
       "(marital ⟂ price_idx | age, y, job, emp_rate)\n",
       "(marital ⟂ y | job, price_idx, edu, emp_rate, age)\n",
       "(marital ⟂ emp_rate | job, y, price_idx, edu, age)\n",
       "(marital ⟂ price_idx | job, y, edu, emp_rate, age)\n",
       "(edu ⟂ price_idx, emp_rate)\n",
       "(edu ⟂ emp_rate | price_idx)\n",
       "(edu ⟂ price_idx, emp_rate | marital)\n",
       "(edu ⟂ price_idx | emp_rate)\n",
       "(edu ⟂ price_idx, marital, emp_rate | age)\n",
       "(edu ⟂ price_idx, emp_rate, y | job)\n",
       "(edu ⟂ emp_rate | price_idx, marital)\n",
       "(edu ⟂ marital, emp_rate | price_idx, age)\n",
       "(edu ⟂ emp_rate, y | price_idx, job)\n",
       "(edu ⟂ price_idx | marital, emp_rate)\n",
       "(edu ⟂ price_idx, emp_rate | age, marital)\n",
       "(edu ⟂ price_idx, emp_rate, y | marital, job)\n",
       "(edu ⟂ price_idx, marital | age, emp_rate)\n",
       "(edu ⟂ price_idx, y | job, emp_rate)\n",
       "(edu ⟂ price_idx | y, emp_rate)\n",
       "(edu ⟂ price_idx, emp_rate, y | age, job)\n",
       "(edu ⟂ price_idx, emp_rate | job, y)\n",
       "(edu ⟂ emp_rate | price_idx, age, marital)\n",
       "(edu ⟂ emp_rate, y | price_idx, marital, job)\n",
       "(edu ⟂ marital | price_idx, age, emp_rate)\n",
       "(edu ⟂ y | price_idx, job, emp_rate)\n",
       "(edu ⟂ emp_rate, y | price_idx, age, job)\n",
       "(edu ⟂ emp_rate | price_idx, job, y)\n",
       "(edu ⟂ price_idx | age, marital, emp_rate)\n",
       "(edu ⟂ price_idx, y | marital, job, emp_rate)\n",
       "(edu ⟂ price_idx | y, marital, emp_rate)\n",
       "(edu ⟂ price_idx, emp_rate, y | age, marital, job)\n",
       "(edu ⟂ price_idx, emp_rate | marital, job, y)\n",
       "(edu ⟂ price_idx, y | age, job, emp_rate)\n",
       "(edu ⟂ price_idx | age, y, emp_rate)\n",
       "(edu ⟂ price_idx | y, job, emp_rate)\n",
       "(edu ⟂ price_idx, emp_rate | age, job, y)\n",
       "(edu ⟂ y | price_idx, marital, job, emp_rate)\n",
       "(edu ⟂ emp_rate, y | price_idx, age, marital, job)\n",
       "(edu ⟂ emp_rate | price_idx, marital, job, y)\n",
       "(edu ⟂ y | price_idx, age, job, emp_rate)\n",
       "(edu ⟂ emp_rate | price_idx, age, job, y)\n",
       "(edu ⟂ price_idx, y | age, marital, job, emp_rate)\n",
       "(edu ⟂ price_idx | y, age, marital, emp_rate)\n",
       "(edu ⟂ price_idx | y, marital, job, emp_rate)\n",
       "(edu ⟂ price_idx, emp_rate | age, marital, job, y)\n",
       "(edu ⟂ price_idx | age, y, job, emp_rate)\n",
       "(edu ⟂ y | marital, job, price_idx, emp_rate, age)\n",
       "(edu ⟂ emp_rate | marital, job, y, price_idx, age)\n",
       "(edu ⟂ price_idx | marital, job, y, emp_rate, age)\n",
       "(emp_rate ⟂ age, marital, edu, job)\n",
       "(emp_rate ⟂ age, marital, job, edu | price_idx)\n",
       "(emp_rate ⟂ age, job, edu | marital)\n",
       "(emp_rate ⟂ age, marital, job | edu)\n",
       "(emp_rate ⟂ marital, job, edu | age)\n",
       "(emp_rate ⟂ age, marital, edu | job)\n",
       "(emp_rate ⟂ age, edu, job | price_idx, marital)\n",
       "(emp_rate ⟂ age, marital, job | price_idx, edu)\n",
       "(emp_rate ⟂ marital, edu, job | price_idx, age)\n",
       "(emp_rate ⟂ age, marital, edu | price_idx, job)\n",
       "(emp_rate ⟂ age, job | marital, edu)\n",
       "(emp_rate ⟂ edu, job | age, marital)\n",
       "(emp_rate ⟂ age, edu | marital, job)\n",
       "(emp_rate ⟂ marital, job | age, edu)\n",
       "(emp_rate ⟂ age, marital | edu, job)\n",
       "(emp_rate ⟂ marital, edu | age, job)\n",
       "(emp_rate ⟂ age, marital, edu | job, y)\n",
       "(emp_rate ⟂ age, job | price_idx, marital, edu)\n",
       "(emp_rate ⟂ edu, job | price_idx, age, marital)\n",
       "(emp_rate ⟂ age, edu | price_idx, marital, job)\n",
       "(emp_rate ⟂ marital, job | price_idx, age, edu)\n",
       "(emp_rate ⟂ age, marital | price_idx, edu, job)\n",
       "(emp_rate ⟂ marital, edu | price_idx, age, job)\n",
       "(emp_rate ⟂ age, marital, edu | price_idx, job, y)\n",
       "(emp_rate ⟂ job | age, marital, edu)\n",
       "(emp_rate ⟂ age | marital, edu, job)\n",
       "(emp_rate ⟂ edu | age, marital, job)\n",
       "(emp_rate ⟂ age, edu | marital, job, y)\n",
       "(emp_rate ⟂ marital | age, edu, job)\n",
       "(emp_rate ⟂ age, marital | y, edu, job)\n",
       "(emp_rate ⟂ marital, edu | age, job, y)\n",
       "(emp_rate ⟂ job | price_idx, age, marital, edu)\n",
       "(emp_rate ⟂ age | price_idx, marital, edu, job)\n",
       "(emp_rate ⟂ edu | price_idx, age, marital, job)\n",
       "(emp_rate ⟂ age, edu | price_idx, marital, job, y)\n",
       "(emp_rate ⟂ marital | price_idx, age, edu, job)\n",
       "(emp_rate ⟂ age, marital | price_idx, y, edu, job)\n",
       "(emp_rate ⟂ marital, edu | price_idx, age, job, y)\n",
       "(emp_rate ⟂ age | y, marital, edu, job)\n",
       "(emp_rate ⟂ edu | age, marital, job, y)\n",
       "(emp_rate ⟂ marital | age, y, edu, job)\n",
       "(emp_rate ⟂ age | marital, job, y, price_idx, edu)\n",
       "(emp_rate ⟂ edu | marital, job, y, price_idx, age)\n",
       "(emp_rate ⟂ marital | job, y, price_idx, edu, age)\n",
       "(age ⟂ price_idx, emp_rate)\n",
       "(age ⟂ emp_rate | price_idx)\n",
       "(age ⟂ price_idx, emp_rate | marital)\n",
       "(age ⟂ price_idx, emp_rate | edu)\n",
       "(age ⟂ price_idx | emp_rate)\n",
       "(age ⟂ price_idx, emp_rate, y | job)\n",
       "(age ⟂ emp_rate | price_idx, marital)\n",
       "(age ⟂ emp_rate | price_idx, edu)\n",
       "(age ⟂ emp_rate, y | price_idx, job)\n",
       "(age ⟂ price_idx, emp_rate | marital, edu)\n",
       "(age ⟂ price_idx | marital, emp_rate)\n",
       "(age ⟂ price_idx, emp_rate, y | marital, job)\n",
       "(age ⟂ price_idx | edu, emp_rate)\n",
       "(age ⟂ price_idx, emp_rate, y | edu, job)\n",
       "(age ⟂ price_idx, y | job, emp_rate)\n",
       "(age ⟂ price_idx | y, emp_rate)\n",
       "(age ⟂ price_idx, emp_rate | job, y)\n",
       "(age ⟂ emp_rate | price_idx, marital, edu)\n",
       "(age ⟂ emp_rate, y | price_idx, marital, job)\n",
       "(age ⟂ emp_rate, y | price_idx, edu, job)\n",
       "(age ⟂ y | price_idx, job, emp_rate)\n",
       "(age ⟂ emp_rate | price_idx, job, y)\n",
       "(age ⟂ price_idx | marital, edu, emp_rate)\n",
       "(age ⟂ price_idx, emp_rate, y | marital, edu, job)\n",
       "(age ⟂ price_idx, y | marital, job, emp_rate)\n",
       "(age ⟂ price_idx | y, marital, emp_rate)\n",
       "(age ⟂ price_idx, emp_rate | marital, job, y)\n",
       "(age ⟂ price_idx, y | job, edu, emp_rate)\n",
       "(age ⟂ price_idx | y, edu, emp_rate)\n",
       "(age ⟂ price_idx, emp_rate | y, edu, job)\n",
       "(age ⟂ price_idx | y, job, emp_rate)\n",
       "(age ⟂ emp_rate, y | price_idx, marital, edu, job)\n",
       "(age ⟂ y | price_idx, marital, job, emp_rate)\n",
       "(age ⟂ emp_rate | price_idx, marital, job, y)\n",
       "(age ⟂ y | price_idx, job, edu, emp_rate)\n",
       "(age ⟂ emp_rate | price_idx, y, edu, job)\n",
       "(age ⟂ price_idx, y | job, marital, edu, emp_rate)\n",
       "(age ⟂ price_idx | y, marital, edu, emp_rate)\n",
       "(age ⟂ price_idx, emp_rate | y, marital, edu, job)\n",
       "(age ⟂ price_idx | y, marital, job, emp_rate)\n",
       "(age ⟂ price_idx | job, y, edu, emp_rate)\n",
       "(age ⟂ y | marital, job, price_idx, edu, emp_rate)\n",
       "(age ⟂ emp_rate | marital, job, y, price_idx, edu)\n",
       "(age ⟂ price_idx | marital, job, y, edu, emp_rate)\n",
       "(job ⟂ price_idx, emp_rate)\n",
       "(job ⟂ emp_rate | price_idx)\n",
       "(job ⟂ price_idx, emp_rate | marital)\n",
       "(job ⟂ price_idx, emp_rate | edu)\n",
       "(job ⟂ price_idx | emp_rate)\n",
       "(job ⟂ price_idx, emp_rate | age)\n",
       "(job ⟂ emp_rate | price_idx, marital)\n",
       "(job ⟂ emp_rate | price_idx, edu)\n",
       "(job ⟂ emp_rate | price_idx, age)\n",
       "(job ⟂ price_idx, emp_rate | marital, edu)\n",
       "(job ⟂ price_idx | marital, emp_rate)\n",
       "(job ⟂ price_idx, emp_rate | age, marital)\n",
       "(job ⟂ price_idx | edu, emp_rate)\n",
       "(job ⟂ price_idx, emp_rate | age, edu)\n",
       "(job ⟂ price_idx | age, emp_rate)\n",
       "(job ⟂ price_idx | y, emp_rate)\n",
       "(job ⟂ emp_rate | price_idx, marital, edu)\n",
       "(job ⟂ emp_rate | price_idx, age, marital)\n",
       "(job ⟂ emp_rate | price_idx, age, edu)\n",
       "(job ⟂ price_idx | marital, edu, emp_rate)\n",
       "(job ⟂ price_idx, emp_rate | age, marital, edu)\n",
       "(job ⟂ price_idx | age, marital, emp_rate)\n",
       "(job ⟂ price_idx | y, marital, emp_rate)\n",
       "(job ⟂ price_idx | age, edu, emp_rate)\n",
       "(job ⟂ price_idx | y, edu, emp_rate)\n",
       "(job ⟂ price_idx | age, y, emp_rate)\n",
       "(job ⟂ emp_rate | price_idx, age, marital, edu)\n",
       "(job ⟂ price_idx | age, marital, edu, emp_rate)\n",
       "(job ⟂ price_idx | y, marital, edu, emp_rate)\n",
       "(job ⟂ price_idx | y, age, marital, emp_rate)\n",
       "(job ⟂ price_idx | age, y, edu, emp_rate)\n",
       "(job ⟂ price_idx | marital, y, edu, emp_rate, age)\n",
       "(y ⟂ price_idx | emp_rate)\n",
       "(y ⟂ age, marital, edu | job)\n",
       "(y ⟂ age, marital, edu | price_idx, job)\n",
       "(y ⟂ price_idx | marital, emp_rate)\n",
       "(y ⟂ age, edu | marital, job)\n",
       "(y ⟂ price_idx | edu, emp_rate)\n",
       "(y ⟂ age, marital | edu, job)\n",
       "(y ⟂ price_idx | age, emp_rate)\n",
       "(y ⟂ price_idx, age, marital, edu | job, emp_rate)\n",
       "(y ⟂ marital, edu | age, job)\n",
       "(y ⟂ age, edu | price_idx, marital, job)\n",
       "(y ⟂ age, marital | price_idx, edu, job)\n",
       "(y ⟂ age, marital, edu | price_idx, job, emp_rate)\n",
       "(y ⟂ marital, edu | price_idx, age, job)\n",
       "(y ⟂ price_idx | marital, edu, emp_rate)\n",
       "(y ⟂ age | marital, edu, job)\n",
       "(y ⟂ price_idx | age, marital, emp_rate)\n",
       "(y ⟂ price_idx, age, edu | marital, job, emp_rate)\n",
       "(y ⟂ edu | age, marital, job)\n",
       "(y ⟂ price_idx | age, edu, emp_rate)\n",
       "(y ⟂ price_idx, age, marital | job, edu, emp_rate)\n",
       "(y ⟂ marital | age, edu, job)\n",
       "(y ⟂ price_idx, marital, edu | age, job, emp_rate)\n",
       "(y ⟂ age | price_idx, marital, edu, job)\n",
       "(y ⟂ age, edu | price_idx, marital, job, emp_rate)\n",
       "(y ⟂ edu | price_idx, age, marital, job)\n",
       "(y ⟂ age, marital | price_idx, job, edu, emp_rate)\n",
       "(y ⟂ marital | price_idx, age, edu, job)\n",
       "(y ⟂ marital, edu | price_idx, age, job, emp_rate)\n",
       "(y ⟂ price_idx | age, marital, edu, emp_rate)\n",
       "(y ⟂ price_idx, age | job, marital, edu, emp_rate)\n",
       "(y ⟂ price_idx, edu | age, marital, job, emp_rate)\n",
       "(y ⟂ price_idx, marital | age, job, edu, emp_rate)\n",
       "(y ⟂ age | marital, job, price_idx, edu, emp_rate)\n",
       "(y ⟂ edu | marital, job, price_idx, emp_rate, age)\n",
       "(y ⟂ marital | job, price_idx, edu, emp_rate, age)\n",
       "(y ⟂ price_idx | marital, job, edu, emp_rate, age)"
      ]
     },
     "execution_count": 56,
     "metadata": {},
     "output_type": "execute_result"
    }
   ],
   "source": [
    "# check independencies \n",
    "model.get_independencies()"
   ]
  },
  {
   "cell_type": "code",
   "execution_count": 57,
   "id": "AnuUdJcSzJzL",
   "metadata": {
    "colab": {
     "base_uri": "https://localhost:8080/"
    },
    "executionInfo": {
     "elapsed": 574,
     "status": "ok",
     "timestamp": 1671007584860,
     "user": {
      "displayName": "May Zhang",
      "userId": "17374700244562573141"
     },
     "user_tz": -480
    },
    "id": "AnuUdJcSzJzL",
    "outputId": "c5e8dc44-04f0-46c2-fb66-5f7c770dfe4f"
   },
   "outputs": [
    {
     "data": {
      "text/plain": [
       "{'y': {'age', 'edu', 'emp_rate', 'job', 'marital', 'price_idx', 'y'}}"
      ]
     },
     "execution_count": 57,
     "metadata": {},
     "output_type": "execute_result"
    }
   ],
   "source": [
    "# all reachable nodes of 'y' from the graph\n",
    "model.active_trail_nodes(\"y\")"
   ]
  },
  {
   "cell_type": "code",
   "execution_count": 58,
   "id": "RUgYs2VazJ1z",
   "metadata": {
    "colab": {
     "base_uri": "https://localhost:8080/"
    },
    "executionInfo": {
     "elapsed": 291,
     "status": "ok",
     "timestamp": 1671007600651,
     "user": {
      "displayName": "May Zhang",
      "userId": "17374700244562573141"
     },
     "user_tz": -480
    },
    "id": "RUgYs2VazJ1z",
    "outputId": "27d94699-b16b-4e84-cd7e-aee2ae5fd7d8"
   },
   "outputs": [
    {
     "data": {
      "text/plain": [
       "{'edu': {'age', 'edu', 'job', 'marital', 'y'}}"
      ]
     },
     "execution_count": 58,
     "metadata": {},
     "output_type": "execute_result"
    }
   ],
   "source": [
    "# all reachable nodes of 'edu' from the graph\n",
    "model.active_trail_nodes(\"edu\")"
   ]
  },
  {
   "cell_type": "markdown",
   "id": "JSQF6hFL0Y7-",
   "metadata": {
    "id": "JSQF6hFL0Y7-"
   },
   "source": [
    "## Make inference"
   ]
  },
  {
   "cell_type": "markdown",
   "id": "s7IypQO31RRE",
   "metadata": {
    "id": "s7IypQO31RRE"
   },
   "source": [
    "### What is the subscription rate, given no other information? \n",
    "What is the probability of customer subscribe a term deposit given no other information? "
   ]
  },
  {
   "cell_type": "code",
   "execution_count": 59,
   "id": "azFR9AgpzJ4L",
   "metadata": {
    "executionInfo": {
     "elapsed": 6,
     "status": "ok",
     "timestamp": 1671007780399,
     "user": {
      "displayName": "May Zhang",
      "userId": "17374700244562573141"
     },
     "user_tz": -480
    },
    "id": "azFR9AgpzJ4L"
   },
   "outputs": [],
   "source": [
    "infer = VariableElimination(model)"
   ]
  },
  {
   "cell_type": "code",
   "execution_count": 60,
   "id": "BzbAIqWv0zgo",
   "metadata": {
    "colab": {
     "base_uri": "https://localhost:8080/"
    },
    "executionInfo": {
     "elapsed": 479,
     "status": "ok",
     "timestamp": 1671007867927,
     "user": {
      "displayName": "May Zhang",
      "userId": "17374700244562573141"
     },
     "user_tz": -480
    },
    "id": "BzbAIqWv0zgo",
    "outputId": "0c3e0d6b-3b0a-46b1-d86d-e2de926e4166"
   },
   "outputs": [],
   "source": [
    "y_distribution = infer.query(variables=['y'])"
   ]
  },
  {
   "cell_type": "code",
   "execution_count": 61,
   "id": "e36434e5",
   "metadata": {},
   "outputs": [
    {
     "name": "stdout",
     "output_type": "stream",
     "text": [
      "+--------+----------+\n",
      "| y      |   phi(y) |\n",
      "+========+==========+\n",
      "| y(no)  |   0.8878 |\n",
      "+--------+----------+\n",
      "| y(yes) |   0.1122 |\n",
      "+--------+----------+\n"
     ]
    }
   ],
   "source": [
    "print(y_distribution)"
   ]
  },
  {
   "cell_type": "markdown",
   "id": "4Qw9EF7H1qEN",
   "metadata": {
    "id": "4Qw9EF7H1qEN"
   },
   "source": [
    "### What should be the marketing strategy given the assumed economic environment ( emp_rate <-2, price_idx >94)?\n",
    "What is the bank term deposit subscription rate given ( emp_rate <-2, price_idx >94) ? "
   ]
  },
  {
   "cell_type": "code",
   "execution_count": 62,
   "id": "fUOuOTrF1CCQ",
   "metadata": {
    "colab": {
     "base_uri": "https://localhost:8080/"
    },
    "executionInfo": {
     "elapsed": 274,
     "status": "ok",
     "timestamp": 1671008376284,
     "user": {
      "displayName": "May Zhang",
      "userId": "17374700244562573141"
     },
     "user_tz": -480
    },
    "id": "fUOuOTrF1CCQ",
    "outputId": "7479f7f1-cca3-4335-ae56-91d45487c886"
   },
   "outputs": [
    {
     "name": "stdout",
     "output_type": "stream",
     "text": [
      "+--------+----------+\n",
      "| y      |   phi(y) |\n",
      "+========+==========+\n",
      "| y(no)  |   0.6206 |\n",
      "+--------+----------+\n",
      "| y(yes) |   0.3794 |\n",
      "+--------+----------+\n"
     ]
    }
   ],
   "source": [
    "y_given_0_94 = infer.query(\n",
    "    variables = ['y'],\n",
    "    evidence = {'price_idx':'>94', 'emp_rate':'<-2'}\n",
    ")\n",
    "print(y_given_0_94)"
   ]
  },
  {
   "cell_type": "markdown",
   "id": "134b2f64",
   "metadata": {},
   "source": [
    "Assuming the current market subscription rate is the same as the baseline (around 11% when no prior information is given). If the predicted rate is higher than the current rate of 11%, we provide signals of an \"increasing\" market. Else, \"shrinking\" market. In the assumed economic environment, the system will signal management of an \"increasing\" market as the subscription rate is much higher than 11%. "
   ]
  },
  {
   "cell_type": "markdown",
   "id": "-JmJ80WX3Oel",
   "metadata": {
    "id": "-JmJ80WX3Oel"
   },
   "source": [
    "### What is the resource allocation decision with a locational population distribution high in technicians in the current market?"
   ]
  },
  {
   "cell_type": "code",
   "execution_count": 63,
   "id": "3vr4qxEc27OY",
   "metadata": {
    "colab": {
     "base_uri": "https://localhost:8080/"
    },
    "executionInfo": {
     "elapsed": 6,
     "status": "ok",
     "timestamp": 1671008627082,
     "user": {
      "displayName": "May Zhang",
      "userId": "17374700244562573141"
     },
     "user_tz": -480
    },
    "id": "3vr4qxEc27OY",
    "outputId": "609342b7-6515-47ff-d6a2-6d857f538c9f"
   },
   "outputs": [
    {
     "name": "stdout",
     "output_type": "stream",
     "text": [
      "+--------+----------+\n",
      "| y      |   phi(y) |\n",
      "+========+==========+\n",
      "| y(no)  |   0.5985 |\n",
      "+--------+----------+\n",
      "| y(yes) |   0.4015 |\n",
      "+--------+----------+\n"
     ]
    }
   ],
   "source": [
    "y_given_technician = infer.query(\n",
    "    variables = ['y'],\n",
    "    evidence = { 'job': \"technician\",'price_idx':'>94', 'emp_rate':'<-2'}\n",
    ")\n",
    "print(y_given_technician)"
   ]
  },
  {
   "cell_type": "markdown",
   "id": "26c609b0",
   "metadata": {},
   "source": [
    "Assuming three cities have similar population sizes, one city’s workforce is dominated by technicians, and it has much higher technicians than the sum of the other two cities. Shall we allocate more resources to the city populated with technicians? Or equally split resources among three cities? Based on our Bayesian network, we should allocate more resources to the city dominated by technicians as the subscription rate(around 40%) is higher than average(around 38%) in the assumed economic background."
   ]
  },
  {
   "cell_type": "code",
   "execution_count": null,
   "id": "cef26cfc",
   "metadata": {},
   "outputs": [],
   "source": []
  }
 ],
 "metadata": {
  "colab": {
   "collapsed_sections": [
    "PLHbHfX2oZq8",
    "Rr12xpVtotTQ",
    "BQlDrqBNo4sz",
    "l8MxRwjUqJV3",
    "Ncp2u-dnqfpv"
   ],
   "provenance": []
  },
  "kernelspec": {
   "display_name": "Python 3 (ipykernel)",
   "language": "python",
   "name": "python3"
  },
  "language_info": {
   "codemirror_mode": {
    "name": "ipython",
    "version": 3
   },
   "file_extension": ".py",
   "mimetype": "text/x-python",
   "name": "python",
   "nbconvert_exporter": "python",
   "pygments_lexer": "ipython3",
   "version": "3.10.9"
  },
  "toc": {
   "base_numbering": 1,
   "nav_menu": {},
   "number_sections": true,
   "sideBar": true,
   "skip_h1_title": false,
   "title_cell": "Table of Contents",
   "title_sidebar": "Contents",
   "toc_cell": false,
   "toc_position": {
    "height": "calc(100% - 180px)",
    "left": "10px",
    "top": "150px",
    "width": "345.98px"
   },
   "toc_section_display": true,
   "toc_window_display": true
  }
 },
 "nbformat": 4,
 "nbformat_minor": 5
}
